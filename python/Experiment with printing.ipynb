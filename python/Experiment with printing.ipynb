{
 "cells": [
  {
   "cell_type": "code",
   "execution_count": 37,
   "metadata": {},
   "outputs": [
    {
     "name": "stdout",
     "output_type": "stream",
     "text": [
      "/Users/downing.jesse/Projects/MLB_statTRAX/python\n",
      "The autoreload extension is already loaded. To reload it, use:\n",
      "  %reload_ext autoreload\n"
     ]
    }
   ],
   "source": [
    "from jesse import jesse\n",
    "jesse.SetOptions()\n",
    "%load_ext autoreload\n",
    "%autoreload 2\n",
    "\n",
    "import pandas as pd\n",
    "import numpy as np\n",
    "from datetime import datetime, timedelta\n",
    "import pybaseball as mlb\n",
    "import mlbgame\n",
    "\n",
    "# #import preprocess\n",
    "# from preprocess import service, model, dates\n",
    "# from process import batter_processing"
   ]
  },
  {
   "cell_type": "code",
   "execution_count": 5,
   "metadata": {},
   "outputs": [],
   "source": [
    "# Figure out how to test my function that shows how many dates\n",
    "# Figure out hwo to print the % \n",
    "# Figure out how to print the '...'"
   ]
  },
  {
   "cell_type": "markdown",
   "metadata": {},
   "source": [
    "## Print dots function"
   ]
  },
  {
   "cell_type": "code",
   "execution_count": 19,
   "metadata": {},
   "outputs": [
    {
     "name": "stdout",
     "output_type": "stream",
     "text": [
      "  ..\n"
     ]
    }
   ],
   "source": [
    "from IPython.display import clear_output, display\n",
    "import time\n",
    "\n",
    "for f in range(100):\n",
    "    print('..')\n",
    "    clear_output(wait=True)\n",
    "    print(' ..')\n",
    "    clear_output(wait=True)\n",
    "    print('  ..')\n",
    "    clear_output(wait=True)\n",
    "    time.sleep(.4)\n",
    "    # use display(f) if you encounter performance issues\n",
    "    "
   ]
  },
  {
   "cell_type": "markdown",
   "metadata": {},
   "source": [
    "## Test count dates function"
   ]
  },
  {
   "cell_type": "code",
   "execution_count": 1,
   "metadata": {},
   "outputs": [],
   "source": [
    "import preprocess \n",
    "import pandas as _pd\n",
    "import pybaseball as _pybaseball\n",
    "\n",
    "def get_raw_stats(season_days_so_far):\n",
    "        df_lst = []\n",
    "        for i in range(len(season_days_so_far)):\n",
    "            d = season_days_so_far[i]\n",
    "            try:\n",
    "                tmp_df = _pybaseball.batting_stats_range(str(d), )\n",
    "                print('%d%%\\r'%i, end=\"\")\n",
    "                tmp_df['DATE'] = d\n",
    "                df_lst.append(tmp_df)\n",
    "            except:\n",
    "                continue\n",
    "        return _pd.concat(df_lst, ignore_index=True)\n"
   ]
  },
  {
   "cell_type": "code",
   "execution_count": 15,
   "metadata": {},
   "outputs": [],
   "source": [
    "    def count_total_days_for_pct(seasons):\n",
    "        lst = []\n",
    "        for season in seasons:\n",
    "            dates = preprocess.get_mlb_dates(season)\n",
    "            lst.append(dates.get_season_days_so_far())\n",
    "        flat_lst = [item for sublist in lst for item in sublist]\n",
    "        return len(flat_lst)\n",
    "        "
   ]
  },
  {
   "cell_type": "code",
   "execution_count": 17,
   "metadata": {},
   "outputs": [
    {
     "data": {
      "text/plain": [
       "76"
      ]
     },
     "execution_count": 17,
     "metadata": {},
     "output_type": "execute_result"
    }
   ],
   "source": [
    "count_total_days_for_pct([2015, 2016, 2017, 2018, 2019])"
   ]
  },
  {
   "cell_type": "code",
   "execution_count": null,
   "metadata": {},
   "outputs": [],
   "source": [
    "print('FIRST-TIME-USE INITIALIZE: pulling batter data from pybaseball api.  This will take several minutes...')\n",
    "seasons = get_prior_years()\n",
    "len_days = count_total_days_for_pct(seasons)                       \n",
    "obj = service.RawBatterStats(seasons, len_days)\n",
    "obj.set_raw_stats()\n",
    "self.raw_stats_df = obj.get_stats()"
   ]
  },
  {
   "cell_type": "code",
   "execution_count": 31,
   "metadata": {},
   "outputs": [
    {
     "name": "stdout",
     "output_type": "stream",
     "text": [
      "100 %\n"
     ]
    }
   ],
   "source": [
    "import math\n",
    "print(math.ceil(4.2))\n",
    "\n",
    "len_days = 737\n",
    "for i in range(737):\n",
    "    pct_complete = int(round(i/len_days * 100, 0))\n",
    "    print(pct_complete,'%')\n",
    "    clear_output(wait=True)"
   ]
  },
  {
   "cell_type": "code",
   "execution_count": null,
   "metadata": {},
   "outputs": [],
   "source": []
  }
 ],
 "metadata": {
  "kernelspec": {
   "display_name": "Python 3",
   "language": "python",
   "name": "python3"
  },
  "language_info": {
   "codemirror_mode": {
    "name": "ipython",
    "version": 3
   },
   "file_extension": ".py",
   "mimetype": "text/x-python",
   "name": "python",
   "nbconvert_exporter": "python",
   "pygments_lexer": "ipython3",
   "version": "3.6.8"
  }
 },
 "nbformat": 4,
 "nbformat_minor": 2
}
