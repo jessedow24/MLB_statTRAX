{
 "cells": [
  {
   "cell_type": "code",
   "execution_count": null,
   "metadata": {},
   "outputs": [],
   "source": [
    "from jesse import jesse\n",
    "jesse.SetOptions()\n",
    "%load_ext autoreload\n",
    "%autoreload 2\n",
    "\n",
    "import process \n",
    "import visualization as viz"
   ]
  },
  {
   "cell_type": "code",
   "execution_count": null,
   "metadata": {},
   "outputs": [],
   "source": [
    "cln = process.batter_stats"
   ]
  },
  {
   "cell_type": "code",
   "execution_count": null,
   "metadata": {},
   "outputs": [],
   "source": [
    "viz.show_stat_graph(cln, 'HR', \"Michael Brantley\", 2018)"
   ]
  },
  {
   "cell_type": "code",
   "execution_count": null,
   "metadata": {},
   "outputs": [],
   "source": [
    "viz.show_ratio_graph(cln, 'AVG', \"Michael Brantley\", 2019)"
   ]
  },
  {
   "cell_type": "code",
   "execution_count": null,
   "metadata": {},
   "outputs": [],
   "source": []
  },
  {
   "cell_type": "code",
   "execution_count": null,
   "metadata": {},
   "outputs": [],
   "source": []
  },
  {
   "cell_type": "code",
   "execution_count": null,
   "metadata": {},
   "outputs": [],
   "source": []
  },
  {
   "cell_type": "code",
   "execution_count": null,
   "metadata": {},
   "outputs": [],
   "source": []
  },
  {
   "cell_type": "code",
   "execution_count": null,
   "metadata": {},
   "outputs": [],
   "source": [
    "### 2018 Rafael Devers\n",
    "# On 8 occations, Devers hit a HR after having not hit an HR in any of the prior 7 days (or, prior 7 games played)\n",
    "# In 7 of the 8 occasions, Devers hit at least 1 more HR within the next 7 days.\n",
    "## In 3 of 8 occasions, Devers hit at least 2 more HR within the next 7 days.\n",
    "## In 1 of 8 occasions, Devers hit  3 more HR within the next 7 days\n",
    "\n",
    "### 2019 Rafael Devers\n",
    "# Devers has had at least 1 HR over every 7 game period, however, he went an entire month without an HR\n",
    "#\n",
    "\n",
    "Feature (based on 2018):  HR in the last 7 days?\n",
    "Featuer (based on 2019): Feature 2018 is not rejected\n",
    "    "
   ]
  },
  {
   "cell_type": "code",
   "execution_count": null,
   "metadata": {},
   "outputs": [],
   "source": [
    "show_graph(cln2, 'HR', \"J.D. Martinez\", 2018)"
   ]
  },
  {
   "cell_type": "code",
   "execution_count": null,
   "metadata": {},
   "outputs": [],
   "source": [
    "# J.D Martinez\n",
    "\n",
    "# show_graph(cln2, 'HR', \"J.D. Martinez\", 2019)\n",
    "# On 3 occasions in 2019, Just Dongs hit a HR after having not hit an HR in any of the prior 7 days \n",
    "# On 2 occasions, Just Dongs did hit an HR in the next 7 days\n",
    "\n",
    "# show_graph(cln2, 'HR', \"J.D. Martinez\", 2018)\n",
    "# On 5 occasions, JD hit an HR after having not homered in the prior 7 days\n",
    "# In 4 occasion, JD hit an HR in the next 7 days\n",
    "\n",
    "Takeaway | The ct. of 7 day stretches a player goes without an HR is negatively correlated to overall production\n"
   ]
  },
  {
   "cell_type": "code",
   "execution_count": null,
   "metadata": {},
   "outputs": [],
   "source": []
  },
  {
   "cell_type": "markdown",
   "metadata": {},
   "source": [
    "### Graph functionalities to add:"
   ]
  },
  {
   "cell_type": "markdown",
   "metadata": {},
   "source": [
    "1. For stat and year, set the y limit to the max value for that column for that year (all players) -> dynamic upper y range (set lower y range to 0 in all cases\n",
    "\n",
    "2. have a graph split in two windows, one for 7-day rolling, 1 for cumulative season (shared x-axis\n",
    "\n",
    "3. Be able to specify player, year, and stat\n",
    "\n",
    "4. Be able to save and export as a png and/or html\n",
    "\n",
    "5.  Have a graph split in two windows, one for 7-day rolling, 1 for cumulative season, for the stat we are interested in\n",
    "\n",
    "6. Add stabilization lines to season views"
   ]
  }
 ],
 "metadata": {
  "kernelspec": {
   "display_name": "Python 3",
   "language": "python",
   "name": "python3"
  },
  "language_info": {
   "codemirror_mode": {
    "name": "ipython",
    "version": 3
   },
   "file_extension": ".py",
   "mimetype": "text/x-python",
   "name": "python",
   "nbconvert_exporter": "python",
   "pygments_lexer": "ipython3",
   "version": "3.6.8"
  }
 },
 "nbformat": 4,
 "nbformat_minor": 2
}
