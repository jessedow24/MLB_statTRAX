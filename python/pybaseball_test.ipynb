{
 "cells": [
  {
   "cell_type": "code",
   "execution_count": 1,
   "metadata": {
    "scrolled": false
   },
   "outputs": [
    {
     "name": "stdout",
     "output_type": "stream",
     "text": [
      "/Users/downing.jesse/Projects/MLB_statTRAX/python\n",
      "Batter data is current.\n"
     ]
    }
   ],
   "source": [
    "from jesse import jesse\n",
    "jesse.SetOptions()\n",
    "%load_ext autoreload\n",
    "%autoreload 2\n",
    "\n",
    "import pandas as pd\n",
    "import numpy as np\n",
    "from datetime import datetime, timedelta\n",
    "import pybaseball as mlb\n",
    "import mlbgame\n",
    "from IPython.display import clear_output\n",
    "\n",
    "import pybaseball as _pybaseball\n",
    "import preprocess\n",
    "from preprocess import service, model, dates\n",
    "#from process import batter_processing\n"
   ]
  },
  {
   "cell_type": "code",
   "execution_count": 5,
   "metadata": {},
   "outputs": [],
   "source": [
    "# this was build by preprocess\n",
    "batter_data = pd.read_csv('../data/csv/raw_batter_stats.csv')"
   ]
  },
  {
   "cell_type": "code",
   "execution_count": 2,
   "metadata": {},
   "outputs": [],
   "source": [
    "#batter_data[batter_data.Name == 'J.D. Martinez'].head(5)"
   ]
  },
  {
   "cell_type": "markdown",
   "metadata": {},
   "source": [
    "### Get raw stats for a batter"
   ]
  },
  {
   "cell_type": "code",
   "execution_count": null,
   "metadata": {},
   "outputs": [],
   "source": [
    "#gallo_stats = mlb.statcast_batter('2019-04-01', '2019-05-01', id)\n",
    "gallo_stats = mlb.statcast_batter(start_dt='2019-02-20', end_dt=today, player_id=id)"
   ]
  },
  {
   "cell_type": "markdown",
   "metadata": {},
   "source": [
    "### Grab all batted ball events for a single day for a single player"
   ]
  },
  {
   "cell_type": "code",
   "execution_count": null,
   "metadata": {},
   "outputs": [],
   "source": [
    "gallo_stats[(gallo_stats.game_date == '2019-05-01') & (~gallo_stats.events.isnull())]"
   ]
  },
  {
   "cell_type": "code",
   "execution_count": null,
   "metadata": {},
   "outputs": [],
   "source": [
    "gallo_stats.events.value_counts()"
   ]
  },
  {
   "cell_type": "markdown",
   "metadata": {},
   "source": [
    "## What other player sources exist?\n",
    "* Lahman\n",
    "** batting stats by year\n",
    "** updated at the end of each season (current is through 2018)\n",
    "* fangraps\n",
    "* baseball reference\n",
    "* baseball savants"
   ]
  }
 ],
 "metadata": {
  "kernelspec": {
   "display_name": "Python 3",
   "language": "python",
   "name": "python3"
  },
  "language_info": {
   "codemirror_mode": {
    "name": "ipython",
    "version": 3
   },
   "file_extension": ".py",
   "mimetype": "text/x-python",
   "name": "python",
   "nbconvert_exporter": "python",
   "pygments_lexer": "ipython3",
   "version": "3.6.8"
  }
 },
 "nbformat": 4,
 "nbformat_minor": 2
}
