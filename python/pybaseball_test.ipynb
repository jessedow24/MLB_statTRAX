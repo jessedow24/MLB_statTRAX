{
 "cells": [
  {
   "cell_type": "code",
   "execution_count": 1,
   "metadata": {},
   "outputs": [
    {
     "name": "stdout",
     "output_type": "stream",
     "text": [
      "/Users/downing.jesse/Projects/MLB_statTRAX/python\n"
     ]
    }
   ],
   "source": [
    "import pandas as pd\n",
    "import numpy as np\n",
    "from datetime import datetime, timedelta\n",
    "import pybaseball as mlb\n",
    "import mlbgame\n",
    "\n",
    "import preprocess\n",
    "from preprocess import data\n",
    "\n",
    "%load_ext autoreload\n",
    "%autoreload 2\n",
    "from jesse import jesse\n",
    "jesse.SetOptions()\n",
    "\n",
    "today = datetime.today().strftime('%Y-%m-%d')"
   ]
  },
  {
   "cell_type": "markdown",
   "metadata": {},
   "source": [
    "### Example of how to generate season dates"
   ]
  },
  {
   "cell_type": "code",
   "execution_count": 2,
   "metadata": {},
   "outputs": [],
   "source": [
    "dates = preprocess.get_mlb_dates()\n",
    "season_days_so_far = dates.get_season_days_so_far()"
   ]
  },
  {
   "cell_type": "markdown",
   "metadata": {},
   "source": [
    "### Test data module"
   ]
  },
  {
   "cell_type": "code",
   "execution_count": 5,
   "metadata": {},
   "outputs": [],
   "source": [
    "test = data.RawBatterStats([2018, 2019])"
   ]
  },
  {
   "cell_type": "code",
   "execution_count": null,
   "metadata": {},
   "outputs": [
    {
     "name": "stdout",
     "output_type": "stream",
     "text": [
      " processing  2018-03-29\n",
      " processing  2018-03-30\n",
      " processing  2018-03-31\n",
      " processing  2018-04-01\n",
      " processing  2018-04-02\n",
      " processing  2018-04-03\n",
      " processing  2018-04-04\n",
      " processing  2018-04-05\n",
      " processing  2018-04-06\n",
      " processing  2018-04-07\n",
      " processing  2018-04-08\n",
      " processing  2018-04-09\n",
      " processing  2018-04-10\n",
      " processing  2018-04-11\n",
      " processing  2018-04-12\n",
      " processing  2018-04-13\n",
      " processing  2018-04-14\n",
      " processing  2018-04-15\n"
     ]
    }
   ],
   "source": [
    "test.set_raw_stats()"
   ]
  },
  {
   "cell_type": "code",
   "execution_count": null,
   "metadata": {},
   "outputs": [],
   "source": [
    "df = test.get_stats()"
   ]
  },
  {
   "cell_type": "markdown",
   "metadata": {},
   "source": [
    "### Aggregate all player stats for 2018"
   ]
  },
  {
   "cell_type": "code",
   "execution_count": 51,
   "metadata": {},
   "outputs": [
    {
     "name": "stdout",
     "output_type": "stream",
     "text": [
      " processing schedule date  2019-03-20\n",
      " processing schedule date  2019-03-21\n",
      " processing schedule date  2019-03-28\n",
      " processing schedule date  2019-03-29\n",
      " processing schedule date  2019-03-30\n",
      " processing schedule date  2019-03-31\n",
      " processing schedule date  2019-04-01\n",
      " processing schedule date  2019-04-02\n",
      " processing schedule date  2019-04-03\n",
      " processing schedule date  2019-04-04\n",
      " processing schedule date  2019-04-05\n",
      " processing schedule date  2019-04-06\n",
      " processing schedule date  2019-04-07\n",
      " processing schedule date  2019-04-08\n",
      " processing schedule date  2019-04-09\n",
      " processing schedule date  2019-04-10\n",
      " processing schedule date  2019-04-11\n",
      " processing schedule date  2019-04-12\n",
      " processing schedule date  2019-04-13\n",
      " processing schedule date  2019-04-14\n",
      " processing schedule date  2019-04-15\n",
      " processing schedule date  2019-04-16\n",
      " processing schedule date  2019-04-17\n",
      " processing schedule date  2019-04-18\n",
      " processing schedule date  2019-04-19\n",
      " processing schedule date  2019-04-20\n",
      " processing schedule date  2019-04-21\n",
      " processing schedule date  2019-04-22\n",
      " processing schedule date  2019-04-23\n",
      " processing schedule date  2019-04-24\n",
      " processing schedule date  2019-04-25\n",
      " processing schedule date  2019-04-26\n",
      " processing schedule date  2019-04-27\n",
      " processing schedule date  2019-04-28\n",
      " processing schedule date  2019-04-29\n",
      " processing schedule date  2019-04-30\n",
      " processing schedule date  2019-05-01\n",
      " processing schedule date  2019-05-02\n",
      " processing schedule date  2019-05-03\n",
      " processing schedule date  2019-05-04\n",
      " processing schedule date  2019-05-05\n",
      " processing schedule date  2019-05-06\n",
      " processing schedule date  2019-05-07\n",
      " processing schedule date  2019-05-08\n",
      " processing schedule date  2019-05-09\n",
      " processing schedule date  2019-05-10\n",
      " processing schedule date  2019-05-11\n",
      " processing schedule date  2019-05-12\n",
      " processing schedule date  2019-05-13\n",
      " processing schedule date  2019-05-14\n",
      " processing schedule date  2019-05-15\n",
      " processing schedule date  2019-05-16\n",
      " processing schedule date  2019-05-17\n",
      " processing schedule date  2019-05-18\n",
      " processing schedule date  2019-05-19\n",
      " processing schedule date  2019-05-20\n",
      " processing schedule date  2019-05-21\n",
      " processing schedule date  2019-05-22\n",
      " processing schedule date  2019-05-23\n",
      " processing schedule date  2019-05-24\n",
      " processing schedule date  2019-05-25\n",
      " processing schedule date  2019-05-26\n",
      " processing schedule date  2019-05-27\n",
      " processing schedule date  2019-05-28\n",
      " processing schedule date  2019-05-29\n"
     ]
    }
   ],
   "source": [
    "df = pd.DataFrame()\n",
    "df_lst = []\n",
    "\n",
    "for d in season_days_so_far:\n",
    "    try:\n",
    "        tmp_df = mlb.batting_stats_range(str(d), )\n",
    "        print(' processing schedule date ', d)\n",
    "    except:\n",
    "        continue\n",
    "    tmp_df['DATE'] = d\n",
    "    df_lst.append(tmp_df)"
   ]
  },
  {
   "cell_type": "code",
   "execution_count": 52,
   "metadata": {},
   "outputs": [],
   "source": [
    "df = pd.concat(df_lst)"
   ]
  },
  {
   "cell_type": "code",
   "execution_count": 53,
   "metadata": {},
   "outputs": [
    {
     "data": {
      "text/plain": [
       "(17586, 28)"
      ]
     },
     "execution_count": 53,
     "metadata": {},
     "output_type": "execute_result"
    }
   ],
   "source": [
    "df.shape"
   ]
  },
  {
   "cell_type": "code",
   "execution_count": null,
   "metadata": {},
   "outputs": [],
   "source": []
  },
  {
   "cell_type": "markdown",
   "metadata": {},
   "source": [
    "### Get key for a player"
   ]
  },
  {
   "cell_type": "code",
   "execution_count": null,
   "metadata": {},
   "outputs": [],
   "source": [
    "mlb.playerid_lookup('gallo', 'joey')"
   ]
  },
  {
   "cell_type": "code",
   "execution_count": null,
   "metadata": {},
   "outputs": [],
   "source": [
    "id = int(mlb.playerid_lookup('gallo', 'joey')['key_mlbam'])\n",
    "print(id)"
   ]
  },
  {
   "cell_type": "markdown",
   "metadata": {},
   "source": [
    "### Get season-level stats for a all batters"
   ]
  },
  {
   "cell_type": "code",
   "execution_count": null,
   "metadata": {},
   "outputs": [],
   "source": [
    "mlb.batting_stats_bref(season=2019).head() # entire season\n",
    "mlb.batting_stats_range(start_dt='2019-03-20', end_dt=today) # specified range\n",
    "\n",
    "#data = mlb.batting_stats_range(\"2016-08-24\",) \n",
    "data = mlb.batting_stats_range(\"2019-05-28\", ) \n"
   ]
  },
  {
   "cell_type": "code",
   "execution_count": null,
   "metadata": {},
   "outputs": [],
   "source": [
    "df = pd.DataFrame()\n",
    "df_lst = []\n",
    "\n",
    "for d in season_days_so_far:\n",
    "    try:\n",
    "        tmp_df = mlb.batting_stats_range(str(d), )\n",
    "        print(' processing schedule date ',d)\n",
    "    except:\n",
    "        continue\n",
    "    tmp_df['DATE'] = d\n",
    "    df_lst.append(tmp_df)"
   ]
  },
  {
   "cell_type": "code",
   "execution_count": null,
   "metadata": {},
   "outputs": [],
   "source": [
    "df = pd.concat(df_lst)"
   ]
  },
  {
   "cell_type": "code",
   "execution_count": null,
   "metadata": {},
   "outputs": [],
   "source": [
    "df.sort_values(['Name', 'DATE'], inplace=True)"
   ]
  },
  {
   "cell_type": "code",
   "execution_count": null,
   "metadata": {},
   "outputs": [],
   "source": [
    "df"
   ]
  },
  {
   "cell_type": "code",
   "execution_count": null,
   "metadata": {},
   "outputs": [],
   "source": []
  },
  {
   "cell_type": "code",
   "execution_count": null,
   "metadata": {},
   "outputs": [],
   "source": []
  },
  {
   "cell_type": "code",
   "execution_count": null,
   "metadata": {},
   "outputs": [],
   "source": [
    "today = datetime.today()\n",
    "days = [today - datetime.timedelta(days=x) for x in range(0, numdays)]"
   ]
  },
  {
   "cell_type": "code",
   "execution_count": null,
   "metadata": {},
   "outputs": [],
   "source": []
  },
  {
   "cell_type": "code",
   "execution_count": null,
   "metadata": {},
   "outputs": [],
   "source": [
    "from datetime import date, timedelta\n",
    "\n",
    "d1 = date(2008, 8, 15)  # start date\n",
    "d2 = date(2008, 9, 15)  # end date\n",
    "\n",
    "delta = d2 - d1         # timedelta\n",
    "\n",
    "for i in range(delta.days + 1):\n",
    "    print(d1 + timedelta(days=i))\n",
    "\n"
   ]
  },
  {
   "cell_type": "code",
   "execution_count": null,
   "metadata": {},
   "outputs": [],
   "source": [
    "# Make a list of all days during 2019 baseball season (from beginning to now)\n",
    "# For each day, pull all data, and append to master dataframe\n",
    "# data"
   ]
  },
  {
   "cell_type": "markdown",
   "metadata": {},
   "source": [
    "## Temp"
   ]
  },
  {
   "cell_type": "markdown",
   "metadata": {},
   "source": [
    "### Get raw stats for a batter"
   ]
  },
  {
   "cell_type": "code",
   "execution_count": null,
   "metadata": {},
   "outputs": [],
   "source": [
    "#gallo_stats = mlb.statcast_batter('2019-04-01', '2019-05-01', id)\n",
    "gallo_stats = mlb.statcast_batter(start_dt='2019-02-20', end_dt=today, player_id=id)"
   ]
  },
  {
   "cell_type": "code",
   "execution_count": null,
   "metadata": {},
   "outputs": [],
   "source": [
    "gallo_stats[gallo_stats.game_date == '2019-05-01']"
   ]
  },
  {
   "cell_type": "code",
   "execution_count": null,
   "metadata": {},
   "outputs": [],
   "source": [
    "gallo_stats"
   ]
  },
  {
   "cell_type": "markdown",
   "metadata": {},
   "source": [
    "### Grab all batted ball events for a single day for a single player"
   ]
  },
  {
   "cell_type": "code",
   "execution_count": null,
   "metadata": {},
   "outputs": [],
   "source": [
    "gallo_stats[(gallo_stats.game_date == '2019-05-01') & (~gallo_stats.events.isnull())]"
   ]
  },
  {
   "cell_type": "code",
   "execution_count": null,
   "metadata": {},
   "outputs": [],
   "source": [
    "gallo_stats.events.value_counts()"
   ]
  },
  {
   "cell_type": "markdown",
   "metadata": {},
   "source": [
    "## What other player sources exist?\n",
    "* Lahman\n",
    "** batting stats by year\n",
    "** updated at the end of each season (current is through 2018)\n",
    "* fangraps\n",
    "* baseball reference\n",
    "* baseball savants\n",
    "\n",
    "\n",
    "### Do I have to parse the data to one-record-per-game format myself?\n",
    "\n",
    "### Can I use retrosheet for past years, and use stat_cast for current year?\n",
    "\n",
    "### How do I define the first game date of the season?\n",
    "\n",
    "### I should save all player IDs to a table, and append any new players?\n"
   ]
  }
 ],
 "metadata": {
  "kernelspec": {
   "display_name": "Python 3",
   "language": "python",
   "name": "python3"
  },
  "language_info": {
   "codemirror_mode": {
    "name": "ipython",
    "version": 3
   },
   "file_extension": ".py",
   "mimetype": "text/x-python",
   "name": "python",
   "nbconvert_exporter": "python",
   "pygments_lexer": "ipython3",
   "version": "3.6.8"
  }
 },
 "nbformat": 4,
 "nbformat_minor": 2
}
