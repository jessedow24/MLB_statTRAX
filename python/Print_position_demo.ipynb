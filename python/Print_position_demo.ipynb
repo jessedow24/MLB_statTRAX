{
 "cells": [
  {
   "cell_type": "code",
   "execution_count": 6,
   "metadata": {},
   "outputs": [
    {
     "name": "stdout",
     "output_type": "stream",
     "text": [
      "Downloading File FooFile.txt [99%]\r"
     ]
    }
   ],
   "source": [
    "\n",
    "import time\n",
    "\n",
    "for i in range(100):\n",
    "    time.sleep(0.1)\n",
    "    print('Downloading File FooFile.txt [%d%%]\\r'%i, end=\"\")"
   ]
  },
  {
   "cell_type": "code",
   "execution_count": 14,
   "metadata": {},
   "outputs": [
    {
     "name": "stdout",
     "output_type": "stream",
     "text": [
      "Downloading File FooFile.txt [1%]\r",
      "Downloading File FooFile.txt [2%]\r",
      "Downloading File FooFile.txt [3%]\r"
     ]
    }
   ],
   "source": [
    "dates = ['2017-01-02', '2017-01-03', '2017-01-04']\n",
    "ct = len(dates)\n",
    "i = 0\n",
    "\n",
    "for d in dates:\n",
    "    i+=1\n",
    "    \n",
    "    print('Downloading File FooFile.txt [%d%%]\\r'%i, end=\"\")"
   ]
  },
  {
   "cell_type": "code",
   "execution_count": null,
   "metadata": {},
   "outputs": [],
   "source": []
  }
 ],
 "metadata": {
  "kernelspec": {
   "display_name": "Python 3",
   "language": "python",
   "name": "python3"
  },
  "language_info": {
   "codemirror_mode": {
    "name": "ipython",
    "version": 3
   },
   "file_extension": ".py",
   "mimetype": "text/x-python",
   "name": "python",
   "nbconvert_exporter": "python",
   "pygments_lexer": "ipython3",
   "version": "3.6.8"
  }
 },
 "nbformat": 4,
 "nbformat_minor": 2
}
