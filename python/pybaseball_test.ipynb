{
 "cells": [
  {
   "cell_type": "code",
   "execution_count": 8,
   "metadata": {},
   "outputs": [
    {
     "name": "stdout",
     "output_type": "stream",
     "text": [
      "The autoreload extension is already loaded. To reload it, use:\n",
      "  %reload_ext autoreload\n",
      "/Users/downing.jesse/Projects/MLB_statTRAX/python\n"
     ]
    }
   ],
   "source": [
    "import pandas as pd\n",
    "import numpy as np\n",
    "from datetime import datetime, timedelta\n",
    "import pybaseball as mlb\n",
    "import mlbgame\n",
    "\n",
    "import preprocess\n",
    "from preprocess import service, model\n",
    "\n",
    "%load_ext autoreload\n",
    "%autoreload 2\n",
    "from jesse import jesse\n",
    "jesse.SetOptions()\n",
    "\n",
    "today = datetime.today().strftime('%Y-%m-%d')"
   ]
  },
  {
   "cell_type": "markdown",
   "metadata": {},
   "source": [
    "### Example of how to generate season dates"
   ]
  },
  {
   "cell_type": "code",
   "execution_count": 3,
   "metadata": {},
   "outputs": [],
   "source": [
    "dates = preprocess.get_mlb_dates()\n",
    "season_days_so_far = dates.get_season_days_so_far()"
   ]
  },
  {
   "cell_type": "code",
   "execution_count": 12,
   "metadata": {},
   "outputs": [
    {
     "name": "stdout",
     "output_type": "stream",
     "text": [
      "Downloading File FooFile.txt [0%]\r",
      "Downloading File FooFile.txt [1%]\r",
      "Downloading File FooFile.txt [2%]\r",
      "Downloading File FooFile.txt [3%]\r",
      "Downloading File FooFile.txt [4%]\r",
      "Downloading File FooFile.txt [5%]\r",
      "Downloading File FooFile.txt [6%]\r",
      "Downloading File FooFile.txt [7%]\r",
      "Downloading File FooFile.txt [8%]\r",
      "Downloading File FooFile.txt [9%]\r",
      "Downloading File FooFile.txt [10%]\r",
      "Downloading File FooFile.txt [11%]\r",
      "Downloading File FooFile.txt [12%]\r",
      "Downloading File FooFile.txt [13%]\r",
      "Downloading File FooFile.txt [14%]\r",
      "Downloading File FooFile.txt [15%]\r",
      "Downloading File FooFile.txt [16%]\r",
      "Downloading File FooFile.txt [17%]\r",
      "Downloading File FooFile.txt [18%]\r",
      "Downloading File FooFile.txt [19%]\r",
      "Downloading File FooFile.txt [20%]\r",
      "Downloading File FooFile.txt [21%]\r",
      "Downloading File FooFile.txt [22%]\r",
      "Downloading File FooFile.txt [23%]\r",
      "Downloading File FooFile.txt [24%]\r",
      "Downloading File FooFile.txt [25%]\r",
      "Downloading File FooFile.txt [26%]\r",
      "Downloading File FooFile.txt [27%]\r",
      "Downloading File FooFile.txt [28%]\r",
      "Downloading File FooFile.txt [29%]\r",
      "Downloading File FooFile.txt [30%]\r",
      "Downloading File FooFile.txt [31%]\r",
      "Downloading File FooFile.txt [32%]\r",
      "Downloading File FooFile.txt [33%]\r",
      "Downloading File FooFile.txt [34%]\r",
      "Downloading File FooFile.txt [35%]\r",
      "Downloading File FooFile.txt [36%]\r",
      "Downloading File FooFile.txt [37%]\r",
      "Downloading File FooFile.txt [38%]\r",
      "Downloading File FooFile.txt [39%]\r",
      "Downloading File FooFile.txt [40%]\r",
      "Downloading File FooFile.txt [41%]\r",
      "Downloading File FooFile.txt [42%]\r",
      "Downloading File FooFile.txt [43%]\r",
      "Downloading File FooFile.txt [44%]\r",
      "Downloading File FooFile.txt [45%]\r",
      "Downloading File FooFile.txt [46%]\r",
      "Downloading File FooFile.txt [47%]\r",
      "Downloading File FooFile.txt [48%]\r",
      "Downloading File FooFile.txt [49%]\r",
      "Downloading File FooFile.txt [50%]\r",
      "Downloading File FooFile.txt [51%]\r",
      "Downloading File FooFile.txt [52%]\r",
      "Downloading File FooFile.txt [53%]\r",
      "Downloading File FooFile.txt [54%]\r",
      "Downloading File FooFile.txt [55%]\r",
      "Downloading File FooFile.txt [56%]\r",
      "Downloading File FooFile.txt [57%]\r",
      "Downloading File FooFile.txt [58%]\r",
      "Downloading File FooFile.txt [59%]\r",
      "Downloading File FooFile.txt [60%]\r",
      "Downloading File FooFile.txt [61%]\r",
      "Downloading File FooFile.txt [62%]\r",
      "Downloading File FooFile.txt [63%]\r",
      "Downloading File FooFile.txt [64%]\r",
      "Downloading File FooFile.txt [65%]\r",
      "Downloading File FooFile.txt [66%]\r",
      "Downloading File FooFile.txt [67%]\r",
      "Downloading File FooFile.txt [68%]\r",
      "Downloading File FooFile.txt [69%]\r",
      "Downloading File FooFile.txt [70%]\r",
      "Downloading File FooFile.txt [71%]\r",
      "Downloading File FooFile.txt [72%]\r"
     ]
    }
   ],
   "source": [
    "for i in range(len(season_days_so_far)):\n",
    "    d = season_days_so_far[i]\n",
    "    print('Downloading File FooFile.txt [%d%%]\\r'%i, end=\"\")"
   ]
  },
  {
   "cell_type": "markdown",
   "metadata": {},
   "source": [
    "### Test data module"
   ]
  },
  {
   "cell_type": "code",
   "execution_count": null,
   "metadata": {},
   "outputs": [
    {
     "name": "stdout",
     "output_type": "stream",
     "text": [
      "2%\r"
     ]
    }
   ],
   "source": [
    "test = preprocess.get_raw_batter_stats([2017])"
   ]
  },
  {
   "cell_type": "code",
   "execution_count": null,
   "metadata": {},
   "outputs": [],
   "source": [
    "test = data.RawBatterStats([2018, 2019])"
   ]
  },
  {
   "cell_type": "code",
   "execution_count": null,
   "metadata": {},
   "outputs": [],
   "source": [
    "test.set_raw_stats()"
   ]
  },
  {
   "cell_type": "code",
   "execution_count": null,
   "metadata": {},
   "outputs": [],
   "source": [
    "'''\n",
    "set min date and max date\n",
    "pull get_dates and compare\n",
    "set a new list of all differences\n",
    "pull data for all new dates and append to df\n",
    "sort df by date and drop duplicates\n",
    "'''\n"
   ]
  },
  {
   "cell_type": "markdown",
   "metadata": {},
   "source": [
    "### Test service + model"
   ]
  },
  {
   "cell_type": "code",
   "execution_count": 9,
   "metadata": {},
   "outputs": [
    {
     "name": "stdout",
     "output_type": "stream",
     "text": [
      "Pulling raw batter stats from existing file...\n",
      "Updating batter data to most recent date...\n",
      "['2019-03-22', '2019-03-23', '2019-03-24', '2019-03-25', '2019-03-26', '2019-03-27', '2019-05-31']\n"
     ]
    }
   ],
   "source": [
    "test=preprocess.get_raw_stats()"
   ]
  },
  {
   "cell_type": "code",
   "execution_count": null,
   "metadata": {},
   "outputs": [],
   "source": []
  },
  {
   "cell_type": "code",
   "execution_count": null,
   "metadata": {},
   "outputs": [],
   "source": [
    "# Look for a file\n",
    "# If it's there, "
   ]
  },
  {
   "cell_type": "code",
   "execution_count": null,
   "metadata": {},
   "outputs": [],
   "source": []
  },
  {
   "cell_type": "code",
   "execution_count": 7,
   "metadata": {},
   "outputs": [
    {
     "data": {
      "text/plain": [
       "'2018-03-29'"
      ]
     },
     "execution_count": 7,
     "metadata": {},
     "output_type": "execute_result"
    }
   ],
   "source": [
    "test.DATE.min()"
   ]
  },
  {
   "cell_type": "code",
   "execution_count": null,
   "metadata": {},
   "outputs": [],
   "source": [
    "load = pd.read_csv('../data/csv/raw_batter_stats.csv')\n",
    "load.shape"
   ]
  },
  {
   "cell_type": "code",
   "execution_count": null,
   "metadata": {},
   "outputs": [],
   "source": [
    "test.shape"
   ]
  },
  {
   "cell_type": "markdown",
   "metadata": {},
   "source": [
    "### Aggregate all player stats for 2018"
   ]
  },
  {
   "cell_type": "code",
   "execution_count": null,
   "metadata": {},
   "outputs": [],
   "source": [
    "df = pd.DataFrame()\n",
    "df_lst = []\n",
    "\n",
    "for d in season_days_so_far:\n",
    "    try:\n",
    "        tmp_df = mlb.batting_stats_range(str(d), )\n",
    "        print(' processing schedule date ', d)\n",
    "    except:\n",
    "        continue\n",
    "    tmp_df['DATE'] = d\n",
    "    df_lst.append(tmp_df)"
   ]
  },
  {
   "cell_type": "code",
   "execution_count": null,
   "metadata": {},
   "outputs": [],
   "source": [
    "df = pd.concat(df_lst)"
   ]
  },
  {
   "cell_type": "code",
   "execution_count": null,
   "metadata": {},
   "outputs": [],
   "source": [
    "df.shape"
   ]
  },
  {
   "cell_type": "code",
   "execution_count": null,
   "metadata": {},
   "outputs": [],
   "source": []
  },
  {
   "cell_type": "markdown",
   "metadata": {},
   "source": [
    "### Get key for a player"
   ]
  },
  {
   "cell_type": "code",
   "execution_count": null,
   "metadata": {},
   "outputs": [],
   "source": [
    "mlb.playerid_lookup('gallo', 'joey')"
   ]
  },
  {
   "cell_type": "code",
   "execution_count": null,
   "metadata": {},
   "outputs": [],
   "source": [
    "id = int(mlb.playerid_lookup('gallo', 'joey')['key_mlbam'])\n",
    "print(id)"
   ]
  },
  {
   "cell_type": "markdown",
   "metadata": {},
   "source": [
    "### Get season-level stats for a all batters"
   ]
  },
  {
   "cell_type": "code",
   "execution_count": null,
   "metadata": {},
   "outputs": [],
   "source": [
    "mlb.batting_stats_bref(season=2019).head() # entire season\n",
    "mlb.batting_stats_range(start_dt='2019-03-20', end_dt=today) # specified range\n",
    "\n",
    "#data = mlb.batting_stats_range(\"2016-08-24\",) \n",
    "data = mlb.batting_stats_range(\"2019-05-28\", ) \n"
   ]
  },
  {
   "cell_type": "code",
   "execution_count": null,
   "metadata": {},
   "outputs": [],
   "source": [
    "df = pd.DataFrame()\n",
    "df_lst = []\n",
    "\n",
    "for d in season_days_so_far:\n",
    "    try:\n",
    "        tmp_df = mlb.batting_stats_range(str(d), )\n",
    "        print(' processing schedule date ',d)\n",
    "    except:\n",
    "        continue\n",
    "    tmp_df['DATE'] = d\n",
    "    df_lst.append(tmp_df)"
   ]
  },
  {
   "cell_type": "code",
   "execution_count": null,
   "metadata": {},
   "outputs": [],
   "source": [
    "df = pd.concat(df_lst)"
   ]
  },
  {
   "cell_type": "code",
   "execution_count": null,
   "metadata": {},
   "outputs": [],
   "source": [
    "df.sort_values(['Name', 'DATE'], inplace=True)"
   ]
  },
  {
   "cell_type": "code",
   "execution_count": null,
   "metadata": {},
   "outputs": [],
   "source": [
    "df"
   ]
  },
  {
   "cell_type": "code",
   "execution_count": null,
   "metadata": {},
   "outputs": [],
   "source": []
  },
  {
   "cell_type": "code",
   "execution_count": null,
   "metadata": {},
   "outputs": [],
   "source": []
  },
  {
   "cell_type": "code",
   "execution_count": null,
   "metadata": {},
   "outputs": [],
   "source": [
    "today = datetime.today()\n",
    "days = [today - datetime.timedelta(days=x) for x in range(0, numdays)]"
   ]
  },
  {
   "cell_type": "code",
   "execution_count": null,
   "metadata": {},
   "outputs": [],
   "source": []
  },
  {
   "cell_type": "code",
   "execution_count": null,
   "metadata": {},
   "outputs": [],
   "source": [
    "from datetime import date, timedelta\n",
    "\n",
    "d1 = date(2008, 8, 15)  # start date\n",
    "d2 = date(2008, 9, 15)  # end date\n",
    "\n",
    "delta = d2 - d1         # timedelta\n",
    "\n",
    "for i in range(delta.days + 1):\n",
    "    print(d1 + timedelta(days=i))\n",
    "\n"
   ]
  },
  {
   "cell_type": "code",
   "execution_count": null,
   "metadata": {},
   "outputs": [],
   "source": [
    "# Make a list of all days during 2019 baseball season (from beginning to now)\n",
    "# For each day, pull all data, and append to master dataframe\n",
    "# data"
   ]
  },
  {
   "cell_type": "markdown",
   "metadata": {},
   "source": [
    "## Temp"
   ]
  },
  {
   "cell_type": "markdown",
   "metadata": {},
   "source": [
    "### Get raw stats for a batter"
   ]
  },
  {
   "cell_type": "code",
   "execution_count": null,
   "metadata": {},
   "outputs": [],
   "source": [
    "#gallo_stats = mlb.statcast_batter('2019-04-01', '2019-05-01', id)\n",
    "gallo_stats = mlb.statcast_batter(start_dt='2019-02-20', end_dt=today, player_id=id)"
   ]
  },
  {
   "cell_type": "code",
   "execution_count": null,
   "metadata": {},
   "outputs": [],
   "source": [
    "gallo_stats[gallo_stats.game_date == '2019-05-01']"
   ]
  },
  {
   "cell_type": "code",
   "execution_count": null,
   "metadata": {},
   "outputs": [],
   "source": [
    "gallo_stats"
   ]
  },
  {
   "cell_type": "markdown",
   "metadata": {},
   "source": [
    "### Grab all batted ball events for a single day for a single player"
   ]
  },
  {
   "cell_type": "code",
   "execution_count": null,
   "metadata": {},
   "outputs": [],
   "source": [
    "gallo_stats[(gallo_stats.game_date == '2019-05-01') & (~gallo_stats.events.isnull())]"
   ]
  },
  {
   "cell_type": "code",
   "execution_count": null,
   "metadata": {},
   "outputs": [],
   "source": [
    "gallo_stats.events.value_counts()"
   ]
  },
  {
   "cell_type": "markdown",
   "metadata": {},
   "source": [
    "## What other player sources exist?\n",
    "* Lahman\n",
    "** batting stats by year\n",
    "** updated at the end of each season (current is through 2018)\n",
    "* fangraps\n",
    "* baseball reference\n",
    "* baseball savants\n",
    "\n",
    "\n",
    "### Do I have to parse the data to one-record-per-game format myself?\n",
    "\n",
    "### Can I use retrosheet for past years, and use stat_cast for current year?\n",
    "\n",
    "### How do I define the first game date of the season?\n",
    "\n",
    "### I should save all player IDs to a table, and append any new players?\n"
   ]
  }
 ],
 "metadata": {
  "kernelspec": {
   "display_name": "Python 3",
   "language": "python",
   "name": "python3"
  },
  "language_info": {
   "codemirror_mode": {
    "name": "ipython",
    "version": 3
   },
   "file_extension": ".py",
   "mimetype": "text/x-python",
   "name": "python",
   "nbconvert_exporter": "python",
   "pygments_lexer": "ipython3",
   "version": "3.6.8"
  }
 },
 "nbformat": 4,
 "nbformat_minor": 2
}
