{
 "cells": [
  {
   "cell_type": "code",
   "execution_count": 2,
   "metadata": {},
   "outputs": [
    {
     "name": "stdout",
     "output_type": "stream",
     "text": [
      "/Users/downing.jesse/Projects/MLB_statTRAX/python\n"
     ]
    }
   ],
   "source": [
    "from jesse import jesse\n",
    "jesse.SetOptions()\n",
    "\n",
    "import pandas as pd\n",
    "import numpy as np\n",
    "from datetime import datetime\n",
    "import mlbgame"
   ]
  },
  {
   "cell_type": "code",
   "execution_count": 3,
   "metadata": {},
   "outputs": [
    {
     "name": "stdout",
     "output_type": "stream",
     "text": [
      "Winning pitcher: Yordano Ventura (Royals) - Losing Pitcher: C.J. Wilson (Angels)\n"
     ]
    }
   ],
   "source": [
    "day = mlbgame.day(2015, 4, 12, home='Royals', away='Royals')\n",
    "game = day[0]\n",
    "output = 'Winning pitcher: %s (%s) - Losing Pitcher: %s (%s)'\n",
    "print(output % (game.w_pitcher, game.w_team, game.l_pitcher, game.l_team))"
   ]
  },
  {
   "cell_type": "code",
   "execution_count": 8,
   "metadata": {},
   "outputs": [],
   "source": [
    "day = mlbgame.day(2015, 4, 12, home='Royals', away='Royals')\n",
    "game = day[0]"
   ]
  },
  {
   "cell_type": "code",
   "execution_count": null,
   "metadata": {},
   "outputs": [],
   "source": [
    "game."
   ]
  }
 ],
 "metadata": {
  "kernelspec": {
   "display_name": "Python 3",
   "language": "python",
   "name": "python3"
  },
  "language_info": {
   "codemirror_mode": {
    "name": "ipython",
    "version": 3
   },
   "file_extension": ".py",
   "mimetype": "text/x-python",
   "name": "python",
   "nbconvert_exporter": "python",
   "pygments_lexer": "ipython3",
   "version": "3.6.8"
  }
 },
 "nbformat": 4,
 "nbformat_minor": 2
}
