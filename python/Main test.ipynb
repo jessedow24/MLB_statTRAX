{
 "cells": [
  {
   "cell_type": "code",
   "execution_count": null,
   "metadata": {},
   "outputs": [],
   "source": [
    "# Stats are broken down 3 different ways:\n",
    "## Season totals\n",
    "### 162-game pace\n",
    "## Game-by-game: cumulative\n",
    "## Game-by-game: 7-day moving average\n",
    "\n",
    "#For stat and year, set the y limit to the max value for that column for that year (all players) -> dynamic upper y range (set lower y range to 0 in all cases\n",
    "\n",
    "2. Have a graph split in two windows, one for 7-day rolling, 1 for cumulative season, for the stat we are interested in\n",
    "3. Be able to save and export as a png and/or html\n",
    "\n",
    "# Add stabilization lines to season views"
   ]
  },
  {
   "cell_type": "code",
   "execution_count": null,
   "metadata": {},
   "outputs": [],
   "source": [
    "pd.__version__"
   ]
  },
  {
   "cell_type": "code",
   "execution_count": null,
   "metadata": {},
   "outputs": [],
   "source": [
    "from jesse import jesse\n",
    "jesse.SetOptions()\n",
    "%load_ext autoreload\n",
    "%autoreload 2\n",
    "\n",
    "import process \n",
    "# import pandas as pd\n",
    "# import numpy as np\n",
    "# from datetime import datetime, timedelta\n",
    "# import pybaseball as mlb\n",
    "# import mlbgame\n",
    "# from IPython.display import clear_output\n",
    "\n",
    "# import pybaseball as _pybaseball\n",
    "# import preprocess\n",
    "# from preprocess import service, model, dates\n",
    "# from process import batter_processing"
   ]
  },
  {
   "cell_type": "code",
   "execution_count": null,
   "metadata": {},
   "outputs": [],
   "source": [
    "cln = process.batter_stats"
   ]
  },
  {
   "cell_type": "code",
   "execution_count": null,
   "metadata": {},
   "outputs": [],
   "source": [
    "test = cln[(cln.NAME == 'Michael Brantley') & (cln.YEAR == 2019)]"
   ]
  },
  {
   "cell_type": "code",
   "execution_count": null,
   "metadata": {},
   "outputs": [],
   "source": [
    "print(test.shape)\n",
    "test.head()"
   ]
  },
  {
   "cell_type": "markdown",
   "metadata": {},
   "source": [
    "## Begin graph tests"
   ]
  },
  {
   "cell_type": "code",
   "execution_count": null,
   "metadata": {},
   "outputs": [],
   "source": [
    "from bokeh.plotting import figure, output_file, show\n",
    "from bokeh.layouts import gridplot, grid\n",
    "from bokeh.models import NumeralTickFormatter, BasicTickFormatter, ColumnDataSource\n",
    "\n",
    "\n",
    "# Use this if you want to turn off the output_file functionality\n",
    "import bokeh.io\n",
    "bokeh.io.reset_output()\n",
    "bokeh.io.output_notebook()"
   ]
  },
  {
   "cell_type": "markdown",
   "metadata": {},
   "source": [
    "### Graph functions"
   ]
  },
  {
   "cell_type": "code",
   "execution_count": null,
   "metadata": {},
   "outputs": [],
   "source": [
    "def show_ratio_graph(df, stat, name, year):\n",
    "    stat_ref = {'AVG':{'day7':'ROLLING_BAVG', 'seas':'CUMSUM_BAVG', 'ticks':None}\n",
    "                , 'SLG':{'day7': 'ROLLING_SLG', 'seas':'CUMSUM_SLG', 'ticks':None}\n",
    "                , 'OBP':{'day7': 'ROLLING_OBP', 'seas':'CUMSUM_OBP', 'ticks':None}\n",
    "                , 'OPS':{'day7': 'ROLLING_OPS', 'seas':'CUMSUM_OPS', 'ticks':None}}\n",
    "    # define graph vectors\n",
    "    df = df[(df.NAME == name) & (df.YEAR == year)]\n",
    "    print(df.shape)\n",
    "    col_day7 = stat_ref[stat]['day7']\n",
    "    col_seas = stat_ref[stat]['seas']\n",
    "    day7     = df[col_day7]\n",
    "    seas     = df[col_seas]\n",
    "    y_ticks  = stat_ref[stat]['ticks']\n",
    "    x = df.DATE\n",
    "    # create a plot\n",
    "    p = figure(title=name+' '+str(year)\n",
    "               , x_axis_label='DATE'\n",
    "               , y_axis_label=stat\n",
    "               , x_axis_type='datetime'\n",
    "               , y_axis_type='linear'\n",
    "               , y_minor_ticks = 5\n",
    "               , plot_width = 900\n",
    "               , plot_height = 600\n",
    "              )\n",
    "    # format the y axis\n",
    "    p.yaxis.formatter=NumeralTickFormatter(format='0.000')\n",
    "    # add a line renderer with legend and line thickness\n",
    "    p.line(x, day7, legend=\"Batting Avg: 7-day\", line_width=2, color=\"teal\", alpha=.4)\n",
    "    p.line(x, seas, legend=\"Batting Avg: season\", line_width=3, color=\"coral\")\n",
    "    show(p)\n",
    "\n",
    "\n",
    "def show_stat_graph(df, stat, name, year):\n",
    "    stat_ref = {'HR':{'day7':'HR_7DAYROLL', 'seas':'HR_CUMSUM', 'ticks':None}\n",
    "            , 'SB':{'day7': 'SB_7DAYROLL', 'seas':'SB_CUMSUM', 'ticks':None}}\n",
    "    # define graph vectors\n",
    "    df = df[(df.NAME == name) & (df.YEAR == year)]\n",
    "    print(df.shape)\n",
    "    col_day7 = stat_ref[stat]['day7']\n",
    "    col_seas = stat_ref[stat]['seas']\n",
    "    seas     = df[col_seas]\n",
    "    day7     = df[col_day7]\n",
    "    y_ticks  = stat_ref[stat]['ticks']\n",
    "    print(y_ticks)\n",
    "    x = df.DATE\n",
    "    \n",
    "    p = figure(title=name+' '+str(year)\n",
    "           , x_axis_label='DATE'\n",
    "           , y_axis_label=stat\n",
    "           , x_axis_type='datetime'\n",
    "           , y_axis_type='linear'\n",
    "           , y_minor_ticks = None\n",
    "           , y_range=(0, 8)\n",
    "           , plot_width = 900\n",
    "           , plot_height = 600\n",
    "          )\n",
    "    \n",
    "    p.line(x, day7, legend=stat+\": 7-day moving avg.\", line_width=3, color=\"coral\")\n",
    "    #p.line(x, seas, legend=stat+\": season\", line_width=2, color=\"teal\", alpha=.4)\n",
    "    \n",
    "    show(p)\n",
    "    "
   ]
  },
  {
   "cell_type": "code",
   "execution_count": null,
   "metadata": {},
   "outputs": [],
   "source": [
    "show_stat_graph(cln, 'SB', \"Adalberto Mondesi\", 2019)"
   ]
  },
  {
   "cell_type": "code",
   "execution_count": null,
   "metadata": {},
   "outputs": [],
   "source": [
    "show_ratio_graph(cln, 'SLG', \"Michael Brantley\", 2019)"
   ]
  },
  {
   "cell_type": "code",
   "execution_count": null,
   "metadata": {},
   "outputs": [],
   "source": []
  },
  {
   "cell_type": "code",
   "execution_count": null,
   "metadata": {},
   "outputs": [],
   "source": []
  },
  {
   "cell_type": "code",
   "execution_count": null,
   "metadata": {},
   "outputs": [],
   "source": []
  },
  {
   "cell_type": "code",
   "execution_count": null,
   "metadata": {},
   "outputs": [],
   "source": []
  },
  {
   "cell_type": "code",
   "execution_count": null,
   "metadata": {},
   "outputs": [],
   "source": []
  },
  {
   "cell_type": "code",
   "execution_count": null,
   "metadata": {},
   "outputs": [],
   "source": []
  },
  {
   "cell_type": "code",
   "execution_count": null,
   "metadata": {},
   "outputs": [],
   "source": [
    "### 2018 Rafael Devers\n",
    "# On 8 occations, Devers hit a HR after having not hit an HR in any of the prior 7 days (or, prior 7 games played)\n",
    "# In 7 of the 8 occasions, Devers hit at least 1 more HR within the next 7 days.\n",
    "## In 3 of 8 occasions, Devers hit at least 2 more HR within the next 7 days.\n",
    "## In 1 of 8 occasions, Devers hit  3 more HR within the next 7 days\n",
    "\n",
    "### 2019 Rafael Devers\n",
    "# Devers has had at least 1 HR over every 7 game period, however, he went an entire month without an HR\n",
    "#\n",
    "\n",
    "Feature (based on 2018):  HR in the last 7 days?\n",
    "Featuer (based on 2019): Feature 2018 is not rejected\n",
    "    "
   ]
  },
  {
   "cell_type": "code",
   "execution_count": null,
   "metadata": {},
   "outputs": [],
   "source": [
    "show_graph(cln2, 'HR', \"J.D. Martinez\", 2018)"
   ]
  },
  {
   "cell_type": "code",
   "execution_count": null,
   "metadata": {},
   "outputs": [],
   "source": [
    "# J.D Martinez\n",
    "\n",
    "# show_graph(cln2, 'HR', \"J.D. Martinez\", 2019)\n",
    "# On 3 occasions in 2019, Just Dongs hit a HR after having not hit an HR in any of the prior 7 days \n",
    "# On 2 occasions, Just Dongs did hit an HR in the next 7 days\n",
    "\n",
    "# show_graph(cln2, 'HR', \"J.D. Martinez\", 2018)\n",
    "# On 5 occasions, JD hit an HR after having not homered in the prior 7 days\n",
    "# In 4 occasion, JD hit an HR in the next 7 days\n",
    "\n",
    "Takeaway | The ct. of 7 day stretches a player goes without an HR is negatively correlated to overall production\n"
   ]
  },
  {
   "cell_type": "code",
   "execution_count": null,
   "metadata": {},
   "outputs": [],
   "source": []
  },
  {
   "cell_type": "markdown",
   "metadata": {},
   "source": [
    "### Graph functionalities to add:"
   ]
  },
  {
   "cell_type": "markdown",
   "metadata": {},
   "source": [
    "1. For stat and year, set the y limit to the max value for that column for that year (all players) -> dynamic upper y range (set lower y range to 0 in all cases\n",
    "\n",
    "2. have a graph split in two windows, one for 7-day rolling, 1 for cumulative season (shared x-axis\n",
    "\n",
    "3. Be able to specify player, year, and stat\n",
    "\n",
    "4. Be able to save and export as a png and/or html"
   ]
  },
  {
   "cell_type": "code",
   "execution_count": null,
   "metadata": {},
   "outputs": [],
   "source": []
  }
 ],
 "metadata": {
  "kernelspec": {
   "display_name": "Python 3",
   "language": "python",
   "name": "python3"
  },
  "language_info": {
   "codemirror_mode": {
    "name": "ipython",
    "version": 3
   },
   "file_extension": ".py",
   "mimetype": "text/x-python",
   "name": "python",
   "nbconvert_exporter": "python",
   "pygments_lexer": "ipython3",
   "version": "3.6.8"
  }
 },
 "nbformat": 4,
 "nbformat_minor": 2
}
