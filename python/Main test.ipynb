{
 "cells": [
  {
   "cell_type": "code",
   "execution_count": 1,
   "metadata": {},
   "outputs": [
    {
     "name": "stdout",
     "output_type": "stream",
     "text": [
      "/Users/downing.jesse/Projects/MLB_statTRAX/python\n",
      "Batter data is current.\n"
     ]
    }
   ],
   "source": [
    "from jesse import jesse\n",
    "jesse.SetOptions()\n",
    "%load_ext autoreload\n",
    "%autoreload 2\n",
    "\n",
    "import pandas as pd\n",
    "import numpy as np\n",
    "from datetime import datetime, timedelta\n",
    "import pybaseball as mlb\n",
    "import mlbgame\n",
    "from IPython.display import clear_output\n",
    "\n",
    "import pybaseball as _pybaseball\n",
    "import preprocess\n",
    "from preprocess import service, model, dates\n",
    "from process import batter_processing"
   ]
  },
  {
   "cell_type": "code",
   "execution_count": 2,
   "metadata": {},
   "outputs": [],
   "source": [
    "# this was build by preprocess\n",
    "batter_raw = pd.read_csv('../data/csv/raw_batter_stats.csv')"
   ]
  },
  {
   "cell_type": "code",
   "execution_count": 3,
   "metadata": {},
   "outputs": [],
   "source": [
    "batter_clean = batter_processing.RawBatter(batter_raw)\n",
    "batter_clean.process_batter()"
   ]
  },
  {
   "cell_type": "code",
   "execution_count": 4,
   "metadata": {},
   "outputs": [],
   "source": [
    "cln = batter_clean.get_processed_batter()"
   ]
  },
  {
   "cell_type": "code",
   "execution_count": 5,
   "metadata": {},
   "outputs": [],
   "source": [
    "test = cln[cln.NAME == 'J.D. Martinez']"
   ]
  },
  {
   "cell_type": "code",
   "execution_count": null,
   "metadata": {},
   "outputs": [],
   "source": [
    "test.tail(4)"
   ]
  },
  {
   "cell_type": "code",
   "execution_count": 8,
   "metadata": {},
   "outputs": [],
   "source": [
    "gr = cln.groupby(['NAME', 'YEAR'])"
   ]
  },
  {
   "cell_type": "code",
   "execution_count": 10,
   "metadata": {},
   "outputs": [],
   "source": [
    "cln2 = gr.apply(lambda cln: pd.DataFrame({#'NAME': cln['NAME']\n",
    "              'DATE': cln['DATE']\n",
    "             , 'G' : cln['G']\n",
    "             , 'TEAM': cln['TEAM']\n",
    "             , 'H_CUMSUM': cln.H.cumsum()\n",
    "             , 'H_7DAYROLL' : cln.H.rolling(7).sum()\n",
    "             , 'BB_CUMSUM': cln.BB.cumsum()\n",
    "             , 'BB_7DAYROLL' : cln.BB.rolling(7).sum()\n",
    "#              , 'HP_CUMSUM': cln.HP.cumsum()\n",
    "#              , 'HP_7DAYROLL' : cln.HP.rolling(7).sum()\n",
    "             , 'SF_CUMSUM': cln.SF.cumsum()\n",
    "             , 'SF_7DAYROLL' : cln.SF.rolling(7).sum()\n",
    "             , 'AB_CUMSUM': cln.AB.cumsum()\n",
    "             , 'AB_7DAYROLL' : cln.AB.rolling(7).sum()\n",
    "             , 'PA_CUMSUM': cln.PA.cumsum()\n",
    "             , 'PA_7DAYROLL' : cln.PA.rolling(7).sum()                              \n",
    "#              , 'TB_CUMSUM': cln.B_TB.cumsum()\n",
    "#              , 'TB_7DAYROLL' : cln.B_TB.rolling(7).sum()  \n",
    "             , 'SB_CUMSUM': cln.SB.cumsum()\n",
    "             , 'SB_7DAYROLL' : cln.SB.rolling(7).sum() \n",
    "             , 'HR_CUMSUM': cln.HR.cumsum()\n",
    "             , 'HR_7DAYROLL' : cln.HR.rolling(7).sum() \n",
    "             , 'RBI_CUMSUM': cln.RBI.cumsum()\n",
    "             , 'RBI_7DAYROLL' : cln.RBI.rolling(7).sum() \n",
    "             , 'R_CUMSUM': cln.R.cumsum()\n",
    "             , 'R_7DAYROLL' : cln.R.rolling(7).sum()              \n",
    "                                })).sort_values(['DATE'], ascending=False)"
   ]
  },
  {
   "cell_type": "code",
   "execution_count": null,
   "metadata": {},
   "outputs": [],
   "source": [
    "cln2"
   ]
  },
  {
   "cell_type": "code",
   "execution_count": null,
   "metadata": {},
   "outputs": [],
   "source": []
  }
 ],
 "metadata": {
  "kernelspec": {
   "display_name": "Python 3",
   "language": "python",
   "name": "python3"
  },
  "language_info": {
   "codemirror_mode": {
    "name": "ipython",
    "version": 3
   },
   "file_extension": ".py",
   "mimetype": "text/x-python",
   "name": "python",
   "nbconvert_exporter": "python",
   "pygments_lexer": "ipython3",
   "version": "3.6.8"
  }
 },
 "nbformat": 4,
 "nbformat_minor": 2
}
