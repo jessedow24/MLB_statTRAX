{
 "cells": [
  {
   "cell_type": "code",
   "execution_count": 8,
   "metadata": {},
   "outputs": [
    {
     "name": "stdout",
     "output_type": "stream",
     "text": [
      "Dates we dont have yet:\n",
      "\n",
      "[]\n",
      "\n",
      "Batter data is current.\n",
      "/Users/downing.jesse/Projects/MLB_statTRAX/python\n",
      "The autoreload extension is already loaded. To reload it, use:\n",
      "  %reload_ext autoreload\n"
     ]
    }
   ],
   "source": [
    "from jesse import jesse\n",
    "jesse.SetOptions()\n",
    "%load_ext autoreload\n",
    "%autoreload 2\n",
    "\n",
    "import process \n",
    "import visualization as viz"
   ]
  },
  {
   "cell_type": "code",
   "execution_count": 5,
   "metadata": {},
   "outputs": [],
   "source": [
    "cln = process.batter_stats"
   ]
  },
  {
   "cell_type": "code",
   "execution_count": null,
   "metadata": {},
   "outputs": [],
   "source": []
  },
  {
   "cell_type": "code",
   "execution_count": 6,
   "metadata": {},
   "outputs": [
    {
     "name": "stdout",
     "output_type": "stream",
     "text": [
      "(120, 35)\n",
      "None\n"
     ]
    },
    {
     "data": {
      "text/html": [
       "\n",
       "\n",
       "\n",
       "\n",
       "\n",
       "\n",
       "  <div class=\"bk-root\" id=\"9ebcbcbe-b652-4137-b37d-acbb2602c193\" data-root-id=\"1002\"></div>\n"
      ]
     },
     "metadata": {},
     "output_type": "display_data"
    },
    {
     "data": {
      "application/javascript": [
       "(function(root) {\n",
       "  function embed_document(root) {\n",
       "    \n",
       "  var docs_json = {\"6530c2ec-18ea-4792-a168-baf27c4c8ea0\":{\"roots\":{\"references\":[{\"attributes\":{\"below\":[{\"id\":\"1013\",\"type\":\"DatetimeAxis\"}],\"center\":[{\"id\":\"1017\",\"type\":\"Grid\"},{\"id\":\"1022\",\"type\":\"Grid\"},{\"id\":\"1059\",\"type\":\"Legend\"}],\"left\":[{\"id\":\"1018\",\"type\":\"LinearAxis\"}],\"plot_width\":900,\"renderers\":[{\"id\":\"1039\",\"type\":\"GlyphRenderer\"}],\"title\":{\"id\":\"1003\",\"type\":\"Title\"},\"toolbar\":{\"id\":\"1029\",\"type\":\"Toolbar\"},\"x_range\":{\"id\":\"1005\",\"type\":\"DataRange1d\"},\"x_scale\":{\"id\":\"1009\",\"type\":\"LinearScale\"},\"y_range\":{\"id\":\"1007\",\"type\":\"Range1d\"},\"y_scale\":{\"id\":\"1011\",\"type\":\"LinearScale\"}},\"id\":\"1002\",\"subtype\":\"Figure\",\"type\":\"Plot\"},{\"attributes\":{},\"id\":\"1026\",\"type\":\"SaveTool\"},{\"attributes\":{\"line_alpha\":0.1,\"line_color\":\"#1f77b4\",\"line_width\":3,\"x\":{\"field\":\"x\"},\"y\":{\"field\":\"y\"}},\"id\":\"1038\",\"type\":\"Line\"},{\"attributes\":{\"mantissas\":[1,2,5],\"max_interval\":500.0,\"num_minor_ticks\":0},\"id\":\"1046\",\"type\":\"AdaptiveTicker\"},{\"attributes\":{\"axis_label\":\"HR\",\"formatter\":{\"id\":\"1044\",\"type\":\"BasicTickFormatter\"},\"ticker\":{\"id\":\"1019\",\"type\":\"BasicTicker\"}},\"id\":\"1018\",\"type\":\"LinearAxis\"},{\"attributes\":{},\"id\":\"1078\",\"type\":\"UnionRenderers\"},{\"attributes\":{},\"id\":\"1024\",\"type\":\"WheelZoomTool\"},{\"attributes\":{},\"id\":\"1028\",\"type\":\"HelpTool\"},{\"attributes\":{\"text\":\"Gleyber Torres 2018\"},\"id\":\"1003\",\"type\":\"Title\"},{\"attributes\":{},\"id\":\"1011\",\"type\":\"LinearScale\"},{\"attributes\":{\"base\":60,\"mantissas\":[1,2,5,10,15,20,30],\"max_interval\":1800000.0,\"min_interval\":1000.0,\"num_minor_ticks\":0},\"id\":\"1047\",\"type\":\"AdaptiveTicker\"},{\"attributes\":{\"days\":[1,2,3,4,5,6,7,8,9,10,11,12,13,14,15,16,17,18,19,20,21,22,23,24,25,26,27,28,29,30,31]},\"id\":\"1049\",\"type\":\"DaysTicker\"},{\"attributes\":{\"days\":[1,15]},\"id\":\"1052\",\"type\":\"DaysTicker\"},{\"attributes\":{\"bottom_units\":\"screen\",\"fill_alpha\":{\"value\":0.5},\"fill_color\":{\"value\":\"lightgrey\"},\"left_units\":\"screen\",\"level\":\"overlay\",\"line_alpha\":{\"value\":1.0},\"line_color\":{\"value\":\"black\"},\"line_dash\":[4,4],\"line_width\":{\"value\":2},\"render_mode\":\"css\",\"right_units\":\"screen\",\"top_units\":\"screen\"},\"id\":\"1058\",\"type\":\"BoxAnnotation\"},{\"attributes\":{\"active_drag\":\"auto\",\"active_inspect\":\"auto\",\"active_multi\":null,\"active_scroll\":\"auto\",\"active_tap\":\"auto\",\"tools\":[{\"id\":\"1023\",\"type\":\"PanTool\"},{\"id\":\"1024\",\"type\":\"WheelZoomTool\"},{\"id\":\"1025\",\"type\":\"BoxZoomTool\"},{\"id\":\"1026\",\"type\":\"SaveTool\"},{\"id\":\"1027\",\"type\":\"ResetTool\"},{\"id\":\"1028\",\"type\":\"HelpTool\"}]},\"id\":\"1029\",\"type\":\"Toolbar\"},{\"attributes\":{\"source\":{\"id\":\"1036\",\"type\":\"ColumnDataSource\"}},\"id\":\"1040\",\"type\":\"CDSView\"},{\"attributes\":{\"base\":24,\"mantissas\":[1,2,4,6,8,12],\"max_interval\":43200000.0,\"min_interval\":3600000.0,\"num_minor_ticks\":0},\"id\":\"1048\",\"type\":\"AdaptiveTicker\"},{\"attributes\":{\"line_color\":\"coral\",\"line_width\":3,\"x\":{\"field\":\"x\"},\"y\":{\"field\":\"y\"}},\"id\":\"1037\",\"type\":\"Line\"},{\"attributes\":{\"days\":[1,4,7,10,13,16,19,22,25,28]},\"id\":\"1050\",\"type\":\"DaysTicker\"},{\"attributes\":{\"ticker\":{\"id\":\"1014\",\"type\":\"DatetimeTicker\"}},\"id\":\"1017\",\"type\":\"Grid\"},{\"attributes\":{\"num_minor_ticks\":5,\"tickers\":[{\"id\":\"1046\",\"type\":\"AdaptiveTicker\"},{\"id\":\"1047\",\"type\":\"AdaptiveTicker\"},{\"id\":\"1048\",\"type\":\"AdaptiveTicker\"},{\"id\":\"1049\",\"type\":\"DaysTicker\"},{\"id\":\"1050\",\"type\":\"DaysTicker\"},{\"id\":\"1051\",\"type\":\"DaysTicker\"},{\"id\":\"1052\",\"type\":\"DaysTicker\"},{\"id\":\"1053\",\"type\":\"MonthsTicker\"},{\"id\":\"1054\",\"type\":\"MonthsTicker\"},{\"id\":\"1055\",\"type\":\"MonthsTicker\"},{\"id\":\"1056\",\"type\":\"MonthsTicker\"},{\"id\":\"1057\",\"type\":\"YearsTicker\"}]},\"id\":\"1014\",\"type\":\"DatetimeTicker\"},{\"attributes\":{},\"id\":\"1042\",\"type\":\"DatetimeTickFormatter\"},{\"attributes\":{\"callback\":null,\"end\":8},\"id\":\"1007\",\"type\":\"Range1d\"},{\"attributes\":{},\"id\":\"1057\",\"type\":\"YearsTicker\"},{\"attributes\":{\"items\":[{\"id\":\"1060\",\"type\":\"LegendItem\"}]},\"id\":\"1059\",\"type\":\"Legend\"},{\"attributes\":{\"num_minor_ticks\":0},\"id\":\"1019\",\"type\":\"BasicTicker\"},{\"attributes\":{\"months\":[0,4,8]},\"id\":\"1055\",\"type\":\"MonthsTicker\"},{\"attributes\":{\"overlay\":{\"id\":\"1058\",\"type\":\"BoxAnnotation\"}},\"id\":\"1025\",\"type\":\"BoxZoomTool\"},{\"attributes\":{\"label\":{\"value\":\"HR: 7-day total.\"},\"renderers\":[{\"id\":\"1039\",\"type\":\"GlyphRenderer\"}]},\"id\":\"1060\",\"type\":\"LegendItem\"},{\"attributes\":{},\"id\":\"1079\",\"type\":\"Selection\"},{\"attributes\":{\"months\":[0,6]},\"id\":\"1056\",\"type\":\"MonthsTicker\"},{\"attributes\":{\"months\":[0,1,2,3,4,5,6,7,8,9,10,11]},\"id\":\"1053\",\"type\":\"MonthsTicker\"},{\"attributes\":{\"axis_label\":\"DATE\",\"formatter\":{\"id\":\"1042\",\"type\":\"DatetimeTickFormatter\"},\"ticker\":{\"id\":\"1014\",\"type\":\"DatetimeTicker\"}},\"id\":\"1013\",\"type\":\"DatetimeAxis\"},{\"attributes\":{\"days\":[1,8,15,22]},\"id\":\"1051\",\"type\":\"DaysTicker\"},{\"attributes\":{},\"id\":\"1023\",\"type\":\"PanTool\"},{\"attributes\":{\"callback\":null},\"id\":\"1005\",\"type\":\"DataRange1d\"},{\"attributes\":{\"callback\":null,\"data\":{\"x\":{\"__ndarray__\":\"AAAAZXxidkIAAED/KWJ2QgAAgJnXYXZCAADAM4VhdkIAAADOMmF2QgAAgAKOYHZCAADAnDtgdkIAAAA36V92QgAAQNGWX3ZCAACAa0RfdkIAAMAF8l52QgAAAKCfXnZCAACA1PpddkIAAMBuqF12QgAAAAlWXXZCAACAPbFcdkIAAMDXXlx2QgAAAHIMXHZCAABADLpbdkIAAICmZ1t2QgAAwEAVW3ZCAABAdXBadkIAAIAPHlp2QgAAwKnLWXZCAAAARHlZdkIAAEDeJll2QgAAgHjUWHZCAADAEoJYdkIAAACtL1h2QgAAQEfdV3ZCAACA4YpXdkIAAMB7OFd2QgAAABbmVnZCAABAsJNWdkIAAMDk7lV2QgAAAH+cVXZCAACAs/dUdkIAAMBNpVR2QgAAAOhSVHZCAABAggBUdkIAAMC2W1N2QgAAAFEJU3ZCAABA67ZSdkIAAICFZFJ2QgAAwB8SUnZCAABAVG1RdkIAAIDuGlF2QgAAwIjIUHZCAAAAI3ZQdkIAAEC9I1B2QgAAgFfRT3ZCAADA8X5PdkIAAACMLE92QgAAQCbaTnZCAADAWjVOdkIAAAD14k12QgAAgCk+TXZCAADAw+tMdkIAAABrKUZ2QgAAQAXXRXZCAACAn4RFdkIAAMA5MkV2QgAAANTfRHZCAABAbo1EdkIAAMCi6EN2QgAAAD2WQ3ZCAABA10NDdkIAAIBx8UJ2QgAAAKZMQnZCAABAQPpBdkIAAIDap0F2QgAAwHRVQXZCAAAADwNBdkIAAECpsEB2QgAAgENeQHZCAADA3QtAdkIAAAB4uT92QgAAQBJnP3ZCAACArBQ/dkIAAADhbz52QgAAQHsdPnZCAACAFcs9dkIAAABKJj12QgAAQOTTPHZCAACAfoE8dkIAAACz3Dt2QgAAQE2KO3ZCAADAgeU6dkIAAAAckzp2QgAAQLZAOnZCAACAUO45dkIAAMDqmzl2QgAAAIVJOXZCAACAuaQ4dkIAAMBTUjh2QgAAAO7/N3ZCAABAiK03dkIAAIAiWzd2QgAAwLwIN3ZCAACAixE2dkIAAEBaGjV2QgAAgPTHNHZCAADAjnU0dkIAAAApIzR2QgAAQMPQM3ZCAADA9yszdkIAAACS2TJ2QgAAQCyHMnZCAACAxjQydkIAAMBg4jF2QgAAAPuPMXZCAABAlT0xdkIAAIAv6zB2QgAAwMmYMHZCAAAAZEYwdkIAAED+8y92QgAAgJihL3ZCAADAMk8vdkIAAADN/C52QgAAQGeqLnZC\",\"dtype\":\"float64\",\"shape\":[120]},\"y\":{\"__ndarray__\":\"AAAAAAAA8D8AAAAAAADwPwAAAAAAAAAAAAAAAAAAAAAAAAAAAAAAAAAAAAAAAAAAAAAAAAAAAAAAAAAAAAAAAAAAAAAAAAAAAAAAAAAAAAAAAAAAAAAAAAAAAAAAAAAAAAAAAAAAAAAAAAAAAAAAAAAAAAAAAPA/AAAAAAAA8D8AAAAAAADwPwAAAAAAAPA/AAAAAAAA8D8AAAAAAAAAQAAAAAAAAABAAAAAAAAAAEAAAAAAAAAAQAAAAAAAAABAAAAAAAAACEAAAAAAAAAIQAAAAAAAAAhAAAAAAAAACEAAAAAAAAAAQAAAAAAAAABAAAAAAAAAAEAAAAAAAADwPwAAAAAAAPA/AAAAAAAAAAAAAAAAAAAAAAAAAAAAAAAAAAAAAAAAAAAAAAAAAAAAAAAAAAAAAAAAAAAAAAAAAAAAAAAAAAAAAAAAAAAAAPA/AAAAAAAA8D8AAAAAAADwPwAAAAAAAPA/AAAAAAAA8D8AAAAAAAAIQAAAAAAAAAhAAAAAAAAAAEAAAAAAAAAAQAAAAAAAAABAAAAAAAAAAEAAAAAAAAAAQAAAAAAAAAAAAAAAAAAAAAAAAAAAAADwPwAAAAAAAPA/AAAAAAAA8D8AAAAAAADwPwAAAAAAAPA/AAAAAAAA8D8AAAAAAADwPwAAAAAAAAAAAAAAAAAAAAAAAAAAAAAAAAAAAAAAAPA/AAAAAAAA8D8AAAAAAADwPwAAAAAAAPA/AAAAAAAA8D8AAAAAAAAAQAAAAAAAAAhAAAAAAAAAAEAAAAAAAAAAQAAAAAAAAAhAAAAAAAAACEAAAAAAAAAIQAAAAAAAAABAAAAAAAAAAEAAAAAAAAAAQAAAAAAAAABAAAAAAAAA8D8AAAAAAADwPwAAAAAAAPA/AAAAAAAA8D8AAAAAAAAAAAAAAAAAAPA/AAAAAAAAAEAAAAAAAAAIQAAAAAAAABRAAAAAAAAAFEAAAAAAAAAYQAAAAAAAABhAAAAAAAAAFEAAAAAAAAAQQAAAAAAAABBAAAAAAAAAAEAAAAAAAAAAQAAAAAAAAPA/AAAAAAAAAEAAAAAAAAAAQAAAAAAAAAhAAAAAAAAAAEAAAAAAAAAAQAAAAAAAAABAAAAAAAAAAEAAAAAAAADwPwAAAAAAAPA/AAAAAAAAAAAAAAAAAAAAAAAAAAAAAAAAAAAAAAAAAAAAAAAAAAAAAAAAAAAAAAAAAAAAAAAA+H8AAAAAAAD4fwAAAAAAAPh/AAAAAAAA+H8AAAAAAAD4fwAAAAAAAPh/\",\"dtype\":\"float64\",\"shape\":[120]}},\"selected\":{\"id\":\"1079\",\"type\":\"Selection\"},\"selection_policy\":{\"id\":\"1078\",\"type\":\"UnionRenderers\"}},\"id\":\"1036\",\"type\":\"ColumnDataSource\"},{\"attributes\":{\"dimension\":1,\"ticker\":{\"id\":\"1019\",\"type\":\"BasicTicker\"}},\"id\":\"1022\",\"type\":\"Grid\"},{\"attributes\":{},\"id\":\"1044\",\"type\":\"BasicTickFormatter\"},{\"attributes\":{\"months\":[0,2,4,6,8,10]},\"id\":\"1054\",\"type\":\"MonthsTicker\"},{\"attributes\":{\"data_source\":{\"id\":\"1036\",\"type\":\"ColumnDataSource\"},\"glyph\":{\"id\":\"1037\",\"type\":\"Line\"},\"hover_glyph\":null,\"muted_glyph\":null,\"nonselection_glyph\":{\"id\":\"1038\",\"type\":\"Line\"},\"selection_glyph\":null,\"view\":{\"id\":\"1040\",\"type\":\"CDSView\"}},\"id\":\"1039\",\"type\":\"GlyphRenderer\"},{\"attributes\":{},\"id\":\"1027\",\"type\":\"ResetTool\"},{\"attributes\":{},\"id\":\"1009\",\"type\":\"LinearScale\"}],\"root_ids\":[\"1002\"]},\"title\":\"Bokeh Application\",\"version\":\"1.2.0\"}};\n",
       "  var render_items = [{\"docid\":\"6530c2ec-18ea-4792-a168-baf27c4c8ea0\",\"roots\":{\"1002\":\"9ebcbcbe-b652-4137-b37d-acbb2602c193\"}}];\n",
       "  root.Bokeh.embed.embed_items_notebook(docs_json, render_items);\n",
       "\n",
       "  }\n",
       "  if (root.Bokeh !== undefined) {\n",
       "    embed_document(root);\n",
       "  } else {\n",
       "    var attempts = 0;\n",
       "    var timer = setInterval(function(root) {\n",
       "      if (root.Bokeh !== undefined) {\n",
       "        embed_document(root);\n",
       "        clearInterval(timer);\n",
       "      }\n",
       "      attempts++;\n",
       "      if (attempts > 100) {\n",
       "        console.log(\"Bokeh: ERROR: Unable to run BokehJS code because BokehJS library is missing\");\n",
       "        clearInterval(timer);\n",
       "      }\n",
       "    }, 10, root)\n",
       "  }\n",
       "})(window);"
      ],
      "application/vnd.bokehjs_exec.v0+json": ""
     },
     "metadata": {
      "application/vnd.bokehjs_exec.v0+json": {
       "id": "1002"
      }
     },
     "output_type": "display_data"
    }
   ],
   "source": [
    "viz.show_stat_graph(cln, 'HR', \"Gleyber Torres\", 2018)"
   ]
  },
  {
   "cell_type": "code",
   "execution_count": 7,
   "metadata": {},
   "outputs": [
    {
     "name": "stdout",
     "output_type": "stream",
     "text": [
      "(102, 35)\n"
     ]
    },
    {
     "data": {
      "text/html": [
       "\n",
       "\n",
       "\n",
       "\n",
       "\n",
       "\n",
       "  <div class=\"bk-root\" id=\"5c922f00-3516-4c9c-be2d-f91cf110b3c3\" data-root-id=\"1201\"></div>\n"
      ]
     },
     "metadata": {},
     "output_type": "display_data"
    },
    {
     "data": {
      "application/javascript": [
       "(function(root) {\n",
       "  function embed_document(root) {\n",
       "    \n",
       "  var docs_json = {\"91bbe55a-e290-453a-8753-88d54db05dac\":{\"roots\":{\"references\":[{\"attributes\":{\"below\":[{\"id\":\"1212\",\"type\":\"DatetimeAxis\"}],\"center\":[{\"id\":\"1216\",\"type\":\"Grid\"},{\"id\":\"1221\",\"type\":\"Grid\"},{\"id\":\"1259\",\"type\":\"Legend\"}],\"left\":[{\"id\":\"1217\",\"type\":\"LinearAxis\"}],\"plot_width\":900,\"renderers\":[{\"id\":\"1240\",\"type\":\"GlyphRenderer\"},{\"id\":\"1264\",\"type\":\"GlyphRenderer\"}],\"title\":{\"id\":\"1202\",\"type\":\"Title\"},\"toolbar\":{\"id\":\"1228\",\"type\":\"Toolbar\"},\"x_range\":{\"id\":\"1204\",\"type\":\"DataRange1d\"},\"x_scale\":{\"id\":\"1208\",\"type\":\"LinearScale\"},\"y_range\":{\"id\":\"1206\",\"type\":\"DataRange1d\"},\"y_scale\":{\"id\":\"1210\",\"type\":\"LinearScale\"}},\"id\":\"1201\",\"subtype\":\"Figure\",\"type\":\"Plot\"},{\"attributes\":{},\"id\":\"1325\",\"type\":\"Selection\"},{\"attributes\":{\"days\":[1,8,15,22]},\"id\":\"1251\",\"type\":\"DaysTicker\"},{\"attributes\":{\"line_color\":\"coral\",\"line_width\":3,\"x\":{\"field\":\"x\"},\"y\":{\"field\":\"y\"}},\"id\":\"1262\",\"type\":\"Line\"},{\"attributes\":{\"months\":[0,6]},\"id\":\"1256\",\"type\":\"MonthsTicker\"},{\"attributes\":{},\"id\":\"1218\",\"type\":\"BasicTicker\"},{\"attributes\":{\"format\":\"0.000\"},\"id\":\"1235\",\"type\":\"NumeralTickFormatter\"},{\"attributes\":{\"axis_label\":\"OPS\",\"formatter\":{\"id\":\"1235\",\"type\":\"NumeralTickFormatter\"},\"ticker\":{\"id\":\"1218\",\"type\":\"BasicTicker\"}},\"id\":\"1217\",\"type\":\"LinearAxis\"},{\"attributes\":{\"axis_label\":\"DATE\",\"formatter\":{\"id\":\"1243\",\"type\":\"DatetimeTickFormatter\"},\"ticker\":{\"id\":\"1213\",\"type\":\"DatetimeTicker\"}},\"id\":\"1212\",\"type\":\"DatetimeAxis\"},{\"attributes\":{\"months\":[0,2,4,6,8,10]},\"id\":\"1254\",\"type\":\"MonthsTicker\"},{\"attributes\":{\"dimension\":1,\"ticker\":{\"id\":\"1218\",\"type\":\"BasicTicker\"}},\"id\":\"1221\",\"type\":\"Grid\"},{\"attributes\":{},\"id\":\"1225\",\"type\":\"SaveTool\"},{\"attributes\":{\"ticker\":{\"id\":\"1213\",\"type\":\"DatetimeTicker\"}},\"id\":\"1216\",\"type\":\"Grid\"},{\"attributes\":{\"months\":[0,1,2,3,4,5,6,7,8,9,10,11]},\"id\":\"1253\",\"type\":\"MonthsTicker\"},{\"attributes\":{\"base\":24,\"mantissas\":[1,2,4,6,8,12],\"max_interval\":43200000.0,\"min_interval\":3600000.0,\"num_minor_ticks\":0},\"id\":\"1248\",\"type\":\"AdaptiveTicker\"},{\"attributes\":{},\"id\":\"1282\",\"type\":\"UnionRenderers\"},{\"attributes\":{\"callback\":null},\"id\":\"1206\",\"type\":\"DataRange1d\"},{\"attributes\":{\"days\":[1,2,3,4,5,6,7,8,9,10,11,12,13,14,15,16,17,18,19,20,21,22,23,24,25,26,27,28,29,30,31]},\"id\":\"1249\",\"type\":\"DaysTicker\"},{\"attributes\":{\"bottom_units\":\"screen\",\"fill_alpha\":{\"value\":0.5},\"fill_color\":{\"value\":\"lightgrey\"},\"left_units\":\"screen\",\"level\":\"overlay\",\"line_alpha\":{\"value\":1.0},\"line_color\":{\"value\":\"black\"},\"line_dash\":[4,4],\"line_width\":{\"value\":2},\"render_mode\":\"css\",\"right_units\":\"screen\",\"top_units\":\"screen\"},\"id\":\"1258\",\"type\":\"BoxAnnotation\"},{\"attributes\":{\"num_minor_ticks\":5,\"tickers\":[{\"id\":\"1246\",\"type\":\"AdaptiveTicker\"},{\"id\":\"1247\",\"type\":\"AdaptiveTicker\"},{\"id\":\"1248\",\"type\":\"AdaptiveTicker\"},{\"id\":\"1249\",\"type\":\"DaysTicker\"},{\"id\":\"1250\",\"type\":\"DaysTicker\"},{\"id\":\"1251\",\"type\":\"DaysTicker\"},{\"id\":\"1252\",\"type\":\"DaysTicker\"},{\"id\":\"1253\",\"type\":\"MonthsTicker\"},{\"id\":\"1254\",\"type\":\"MonthsTicker\"},{\"id\":\"1255\",\"type\":\"MonthsTicker\"},{\"id\":\"1256\",\"type\":\"MonthsTicker\"},{\"id\":\"1257\",\"type\":\"YearsTicker\"}]},\"id\":\"1213\",\"type\":\"DatetimeTicker\"},{\"attributes\":{\"callback\":null,\"data\":{\"x\":{\"__ndarray__\":\"AACAm0PGdkIAAMA18cV2QgAAANCexXZCAABAakzFdkIAAIAE+sR2QgAAADlVxHZCAABA0wLEdkIAAMAHXsN2QgAAAKILw3ZCAABAPLnCdkIAAIDWZsJ2QgAAwHAUwnZCAAAAC8LBdkIAAEClb8F2QgAAgD8dwXZCAADA2crAdkIAAAB0eMB2QgAAQA4mwHZCAADAQoG/dkIAAADdLr92QgAAQHfcvnZCAACAEYq+dkIAAMCrN752QgAAQElJvHZCAACA4/a7dkIAAMB9pLt2QgAAABhSu3ZCAABAsv+6dkIAAMDmWrp2QgAAAIEIunZCAADATxG5dkIAAADqvrh2QgAAQIRsuHZCAACAHhq4dkIAAABTdbd2QgAAQO0it3ZCAACAh9C2dkIAAMAhfrZ2QgAAALwrtnZCAABAVtm1dkIAAIDwhrV2QgAAwIo0tXZCAAAAJeK0dkIAAIBZPbR2QgAAAI6Ys3ZCAABAKEazdkIAAAD3TrJ2QgAAQJH8sXZCAADAxVexdkIAAABgBbF2QgAAQPqysHZCAADALg6wdkIAAADJu692QgAAQGNpr3ZCAACA/RavdkIAAMCXxK52QgAAQMwfrnZCAACAZs2tdkIAAMAAe612QgAAAJsorXZCAABANdasdkIAAIDPg6x2QgAAwGkxrHZCAABAnoyrdkIAAEAHQ6p2QgAAgKHwqXZCAADAO56pdkIAAADWS6l2QgAAQHD5qHZCAADApFSodkIAAAA/Aqh2QgAAQNmvp3ZCAADADQundkIAAACouKZ2QgAAgNwTpnZCAADAdsGldkIAAAARb6V2QgAAQKscpXZCAACARcqkdkIAAMDfd6R2QgAAAHolpHZCAABAFNOjdkIAAICugKN2QgAAwEguo3ZCAAAA49uidkIAAEB9iaJ2QgAAgBc3onZCAAAATJKhdkIAAEDmP6F2QgAAgIDtoHZCAAAAtUigdkIAAEBP9p92QgAAgOmjn3ZCAADAg1GfdkIAAAAe/552QgAAgFJannZCAADA7AeedkIAAACHtZ12QgAAQCFjnXZCAACAuxCddkIAAMBVvpx2QgAAQIoZnHZC\",\"dtype\":\"float64\",\"shape\":[102]},\"y\":{\"__ndarray__\":\"uA8HiK5E6z9vtkMm8WbrP7lo2SkWvus/nsqvTA3n6z/gq2fzg4frP8rxtmncROs/vCbOSAhN6z+gViEg+pbrP+rv9huC4us/NAbi81Xj6z/iJ1Pk/ATsP+4OLAJlJ+w/UltJbSX16z9R1ENkxvDrP3jCyEK1++s/pVNBpdw57D+Aq48qIBXsP1LxFmU9Cuw/QBklN9cv7D82SpFnyEzsP+zETuzETuw/N02bsclb7D95aRd85bbsP65uNCt9a+w/XIuhAs2h7D9Y4Omhp6/sPzg/hROoEO0/wuYw/+QH7T/CZ2Wy1zXtPw4UkL4KKu0/Cr4vBUXl7D//ANkeR7zsP0fUO3hbdew/bFXF5GQa7D8Kn1C/OITsPw5OLj42Ouw/inl/JlTM6z/3kb+y6mrrPzIu2nMoaus/E04qN5e86z/I161QvbjrPwq7AwwqTOs/NFXCsJlK6z/8Yg7TmAXrP/L951J8vuo/O16M0U0d6z8pYM2fwCrrPxzVRSfqb+s/vddo5BjX6z+gDWr8GbDrPy3gtS8Er+s/hvQmIoTo6z/exVD+flvrP9h77SKr5es/ummdzVL56z9GZ43k9IfrP36L6WCBw+w/qHPYAoCn7D97GIECmKTrP9wYtRNjhes/lsmpNt1F6j/6mO5zomXqPz4IR86ip+o/Gvt1FyW46j9O8GeZBeroP/cqmCXlgOg/bqDTBjpt6D9eGREkj6jnP0YkAlsBWug/NRLbM3Eg6D/uIDUkRwfoP43YXr/cSeg/+Eevg+iQ6D8zHD06BZXoP+Y/7oR3Ceg/pI4rIZil5j8bDwg3U5fmP63wU9E55uU/YtYRZh1h5j/a1KY2tanmPxZogRZogeY/lIZCnXn+5z+wBEuwBEvoP+wI0U1hEOk/zPYV3NmU6T80PP8g3tnqP3WzkPKQiOw/qIY1lvC56z+Y9H46NJPsP4/d5thtju0/vuVbvuVb7j9WzU/C2i3uP6/Zpmf9lPA/ciZnciZn8j/sSL2O1OvwPw4/qkvMWvA/TH6x5BdL4j/iK77iK77iP0xLS0tLS+c/T+zETuzE7j9u27Zt27btP6qqqqqqquo/\",\"dtype\":\"float64\",\"shape\":[102]}},\"selected\":{\"id\":\"1325\",\"type\":\"Selection\"},\"selection_policy\":{\"id\":\"1324\",\"type\":\"UnionRenderers\"}},\"id\":\"1261\",\"type\":\"ColumnDataSource\"},{\"attributes\":{\"items\":[{\"id\":\"1260\",\"type\":\"LegendItem\"},{\"id\":\"1285\",\"type\":\"LegendItem\"}]},\"id\":\"1259\",\"type\":\"Legend\"},{\"attributes\":{},\"id\":\"1243\",\"type\":\"DatetimeTickFormatter\"},{\"attributes\":{\"label\":{\"value\":\"OPS: 7-day\"},\"renderers\":[{\"id\":\"1240\",\"type\":\"GlyphRenderer\"}]},\"id\":\"1260\",\"type\":\"LegendItem\"},{\"attributes\":{\"days\":[1,4,7,10,13,16,19,22,25,28]},\"id\":\"1250\",\"type\":\"DaysTicker\"},{\"attributes\":{},\"id\":\"1208\",\"type\":\"LinearScale\"},{\"attributes\":{\"callback\":null},\"id\":\"1204\",\"type\":\"DataRange1d\"},{\"attributes\":{\"callback\":null,\"data\":{\"x\":{\"__ndarray__\":\"AACAm0PGdkIAAMA18cV2QgAAANCexXZCAABAakzFdkIAAIAE+sR2QgAAADlVxHZCAABA0wLEdkIAAMAHXsN2QgAAAKILw3ZCAABAPLnCdkIAAIDWZsJ2QgAAwHAUwnZCAAAAC8LBdkIAAEClb8F2QgAAgD8dwXZCAADA2crAdkIAAAB0eMB2QgAAQA4mwHZCAADAQoG/dkIAAADdLr92QgAAQHfcvnZCAACAEYq+dkIAAMCrN752QgAAQElJvHZCAACA4/a7dkIAAMB9pLt2QgAAABhSu3ZCAABAsv+6dkIAAMDmWrp2QgAAAIEIunZCAADATxG5dkIAAADqvrh2QgAAQIRsuHZCAACAHhq4dkIAAABTdbd2QgAAQO0it3ZCAACAh9C2dkIAAMAhfrZ2QgAAALwrtnZCAABAVtm1dkIAAIDwhrV2QgAAwIo0tXZCAAAAJeK0dkIAAIBZPbR2QgAAAI6Ys3ZCAABAKEazdkIAAAD3TrJ2QgAAQJH8sXZCAADAxVexdkIAAABgBbF2QgAAQPqysHZCAADALg6wdkIAAADJu692QgAAQGNpr3ZCAACA/RavdkIAAMCXxK52QgAAQMwfrnZCAACAZs2tdkIAAMAAe612QgAAAJsorXZCAABANdasdkIAAIDPg6x2QgAAwGkxrHZCAABAnoyrdkIAAEAHQ6p2QgAAgKHwqXZCAADAO56pdkIAAADWS6l2QgAAQHD5qHZCAADApFSodkIAAAA/Aqh2QgAAQNmvp3ZCAADADQundkIAAACouKZ2QgAAgNwTpnZCAADAdsGldkIAAAARb6V2QgAAQKscpXZCAACARcqkdkIAAMDfd6R2QgAAAHolpHZCAABAFNOjdkIAAICugKN2QgAAwEguo3ZCAAAA49uidkIAAEB9iaJ2QgAAgBc3onZCAAAATJKhdkIAAEDmP6F2QgAAgIDtoHZCAAAAtUigdkIAAEBP9p92QgAAgOmjn3ZCAADAg1GfdkIAAAAe/552QgAAgFJannZCAADA7AeedkIAAACHtZ12QgAAQCFjnXZCAACAuxCddkIAAMBVvpx2QgAAQIoZnHZC\",\"dtype\":\"float64\",\"shape\":[102]},\"y\":{\"__ndarray__\":\"TjfddNNN5z/qdaReR+rlPwSqPpHbBOo/eHh4eHh46j87sRM7sRPjP7xAJsULZOI/3U3uJneT4z93k7vJ3eTmP0J7Ce0ltOc/xe+SVB2z6T+GuCj72tXrP4a4KPva1es/mPJGaWL95z8mqdauMV/nPyap1q4xX+c/FmiBFmiB5j+hvYT2EtrnP0aJn1HiZ+Q/hmEYhmEY5j8Og3fQ9cbjPy+QSfECmeQ/OH1vpZpp4z8IfuAHfuDnP/ZKjmD4Q+c/JEmSJEmS6z/v7u7u7u7uP0oppZRSSvM/7LLLLrvs8D86GQ617KnzP0S/2Tr0m/U/hmEYhmEY9j9SoNavFKj1P+/zXVumJ/I//xgrHpUb8D+Is/IT4qz0P9hNoQkMz/I/jDRjlP+g8T8H8OX9JKjwP3odqdeReu0/RCRDnfoW8D/e3d3d3d3tPyIiIiIiIuY/eHd3d3d35z8RERERERHlP0jhehSuR+E/Ujv4vU4d6T8K0fD+dnPlPyK+KOQweOc/prxRmlj/7T880XCB6M3lP97d3d3d3eU/X3311Vdf7T96enp6enrqP3NycnJycvI/WqM1WqM18j8HX023OyHwP7dt27Zt2/Q/ZmZmZmbm9j8KZdB9Mwr1P8EEE0wwwfQ/DmvfsPYN8z+8u7u7u7vxP0RERERExPI/9zTCck8j8z+Cif5OVsvrP6o05NxnF+g/yHu8x3u85z804s2INyPmPyL5mnrnBO8/aVGJ5Gvq7T/S6y9OBpHvPwrf57Lwfe4/Ct/nsvB97j+FrlPoOoXuPyaYYIIJJug/pLrErIUC4j9CtQQoVEvgP36poNWXCto/30o10+bi1j9/1V0PH0/SPwZaoAVaoNU/du+QqCLE2z/Qsflu+FHdP40PPRWYxd0/8h7v8R7v4T9hGIZhGIbhP2EYhmEYhuE/rdEardEa5T9IgzRIgzToP7Q927M92/M/2h/tj/ZH8z8EknWuPCDxPwSSda48IPE/2h/tj/ZH8z8DmRQvkEnxPw4/qkvMWvA/AAAAAAAA+H8AAAAAAAD4fwAAAAAAAPh/AAAAAAAA+H8AAAAAAAD4fwAAAAAAAPh/\",\"dtype\":\"float64\",\"shape\":[102]}},\"selected\":{\"id\":\"1283\",\"type\":\"Selection\"},\"selection_policy\":{\"id\":\"1282\",\"type\":\"UnionRenderers\"}},\"id\":\"1237\",\"type\":\"ColumnDataSource\"},{\"attributes\":{},\"id\":\"1283\",\"type\":\"Selection\"},{\"attributes\":{\"line_alpha\":0.1,\"line_color\":\"#1f77b4\",\"line_width\":2,\"x\":{\"field\":\"x\"},\"y\":{\"field\":\"y\"}},\"id\":\"1239\",\"type\":\"Line\"},{\"attributes\":{\"data_source\":{\"id\":\"1237\",\"type\":\"ColumnDataSource\"},\"glyph\":{\"id\":\"1238\",\"type\":\"Line\"},\"hover_glyph\":null,\"muted_glyph\":null,\"nonselection_glyph\":{\"id\":\"1239\",\"type\":\"Line\"},\"selection_glyph\":null,\"view\":{\"id\":\"1241\",\"type\":\"CDSView\"}},\"id\":\"1240\",\"type\":\"GlyphRenderer\"},{\"attributes\":{\"source\":{\"id\":\"1261\",\"type\":\"ColumnDataSource\"}},\"id\":\"1265\",\"type\":\"CDSView\"},{\"attributes\":{},\"id\":\"1226\",\"type\":\"ResetTool\"},{\"attributes\":{},\"id\":\"1222\",\"type\":\"PanTool\"},{\"attributes\":{\"overlay\":{\"id\":\"1258\",\"type\":\"BoxAnnotation\"}},\"id\":\"1224\",\"type\":\"BoxZoomTool\"},{\"attributes\":{\"source\":{\"id\":\"1237\",\"type\":\"ColumnDataSource\"}},\"id\":\"1241\",\"type\":\"CDSView\"},{\"attributes\":{\"text\":\"Gleyber Torres 2019\"},\"id\":\"1202\",\"type\":\"Title\"},{\"attributes\":{\"days\":[1,15]},\"id\":\"1252\",\"type\":\"DaysTicker\"},{\"attributes\":{\"mantissas\":[1,2,5],\"max_interval\":500.0,\"num_minor_ticks\":0},\"id\":\"1246\",\"type\":\"AdaptiveTicker\"},{\"attributes\":{},\"id\":\"1324\",\"type\":\"UnionRenderers\"},{\"attributes\":{\"line_alpha\":0.1,\"line_color\":\"#1f77b4\",\"line_width\":3,\"x\":{\"field\":\"x\"},\"y\":{\"field\":\"y\"}},\"id\":\"1263\",\"type\":\"Line\"},{\"attributes\":{\"data_source\":{\"id\":\"1261\",\"type\":\"ColumnDataSource\"},\"glyph\":{\"id\":\"1262\",\"type\":\"Line\"},\"hover_glyph\":null,\"muted_glyph\":null,\"nonselection_glyph\":{\"id\":\"1263\",\"type\":\"Line\"},\"selection_glyph\":null,\"view\":{\"id\":\"1265\",\"type\":\"CDSView\"}},\"id\":\"1264\",\"type\":\"GlyphRenderer\"},{\"attributes\":{},\"id\":\"1223\",\"type\":\"WheelZoomTool\"},{\"attributes\":{\"base\":60,\"mantissas\":[1,2,5,10,15,20,30],\"max_interval\":1800000.0,\"min_interval\":1000.0,\"num_minor_ticks\":0},\"id\":\"1247\",\"type\":\"AdaptiveTicker\"},{\"attributes\":{},\"id\":\"1257\",\"type\":\"YearsTicker\"},{\"attributes\":{\"line_alpha\":0.4,\"line_color\":\"teal\",\"line_width\":2,\"x\":{\"field\":\"x\"},\"y\":{\"field\":\"y\"}},\"id\":\"1238\",\"type\":\"Line\"},{\"attributes\":{\"months\":[0,4,8]},\"id\":\"1255\",\"type\":\"MonthsTicker\"},{\"attributes\":{},\"id\":\"1210\",\"type\":\"LinearScale\"},{\"attributes\":{\"label\":{\"value\":\"OPS: season\"},\"renderers\":[{\"id\":\"1264\",\"type\":\"GlyphRenderer\"}]},\"id\":\"1285\",\"type\":\"LegendItem\"},{\"attributes\":{\"active_drag\":\"auto\",\"active_inspect\":\"auto\",\"active_multi\":null,\"active_scroll\":\"auto\",\"active_tap\":\"auto\",\"tools\":[{\"id\":\"1222\",\"type\":\"PanTool\"},{\"id\":\"1223\",\"type\":\"WheelZoomTool\"},{\"id\":\"1224\",\"type\":\"BoxZoomTool\"},{\"id\":\"1225\",\"type\":\"SaveTool\"},{\"id\":\"1226\",\"type\":\"ResetTool\"},{\"id\":\"1227\",\"type\":\"HelpTool\"}]},\"id\":\"1228\",\"type\":\"Toolbar\"},{\"attributes\":{},\"id\":\"1227\",\"type\":\"HelpTool\"}],\"root_ids\":[\"1201\"]},\"title\":\"Bokeh Application\",\"version\":\"1.2.0\"}};\n",
       "  var render_items = [{\"docid\":\"91bbe55a-e290-453a-8753-88d54db05dac\",\"roots\":{\"1201\":\"5c922f00-3516-4c9c-be2d-f91cf110b3c3\"}}];\n",
       "  root.Bokeh.embed.embed_items_notebook(docs_json, render_items);\n",
       "\n",
       "  }\n",
       "  if (root.Bokeh !== undefined) {\n",
       "    embed_document(root);\n",
       "  } else {\n",
       "    var attempts = 0;\n",
       "    var timer = setInterval(function(root) {\n",
       "      if (root.Bokeh !== undefined) {\n",
       "        embed_document(root);\n",
       "        clearInterval(timer);\n",
       "      }\n",
       "      attempts++;\n",
       "      if (attempts > 100) {\n",
       "        console.log(\"Bokeh: ERROR: Unable to run BokehJS code because BokehJS library is missing\");\n",
       "        clearInterval(timer);\n",
       "      }\n",
       "    }, 10, root)\n",
       "  }\n",
       "})(window);"
      ],
      "application/vnd.bokehjs_exec.v0+json": ""
     },
     "metadata": {
      "application/vnd.bokehjs_exec.v0+json": {
       "id": "1201"
      }
     },
     "output_type": "display_data"
    }
   ],
   "source": [
    "viz.show_ratio_graph(cln, 'OPS', \"Gleyber Torres\", 2019)"
   ]
  },
  {
   "cell_type": "code",
   "execution_count": null,
   "metadata": {},
   "outputs": [],
   "source": [
    "# Roadmap to save processing time for pivoting new dates:\n",
    "\n",
    "# 2. Import the new dates\n",
    "# 3. Import existing pivoted data\n",
    "# 3. Create a new frame, which is clean batter data, going back 7 days prior to earliest new data\n",
    "# 4. Rebuild the groupby and build a new frame\n",
    "# 5. From this frame, subset to only records of the new dates\n",
    "# 6. Append these new dates to existing pivoted data\n",
    "# 7. Save pivoted data"
   ]
  },
  {
   "cell_type": "code",
   "execution_count": null,
   "metadata": {},
   "outputs": [],
   "source": []
  },
  {
   "cell_type": "code",
   "execution_count": null,
   "metadata": {},
   "outputs": [],
   "source": []
  },
  {
   "cell_type": "code",
   "execution_count": null,
   "metadata": {},
   "outputs": [],
   "source": []
  },
  {
   "cell_type": "code",
   "execution_count": null,
   "metadata": {},
   "outputs": [],
   "source": [
    "### 2018 Rafael Devers\n",
    "# On 8 occations, Devers hit a HR after having not hit an HR in any of the prior 7 days (or, prior 7 games played)\n",
    "# In 7 of the 8 occasions, Devers hit at least 1 more HR within the next 7 days.\n",
    "## In 3 of 8 occasions, Devers hit at least 2 more HR within the next 7 days.\n",
    "## In 1 of 8 occasions, Devers hit  3 more HR within the next 7 days\n",
    "\n",
    "### 2019 Rafael Devers\n",
    "# Devers has had at least 1 HR over every 7 game period, however, he went an entire month without an HR\n",
    "#\n",
    "\n",
    "Feature (based on 2018):  HR in the last 7 days?\n",
    "Featuer (based on 2019): Feature 2018 is not rejected\n",
    "    "
   ]
  },
  {
   "cell_type": "code",
   "execution_count": null,
   "metadata": {},
   "outputs": [],
   "source": [
    "show_graph(cln2, 'HR', \"J.D. Martinez\", 2018)"
   ]
  },
  {
   "cell_type": "code",
   "execution_count": null,
   "metadata": {},
   "outputs": [],
   "source": [
    "# J.D Martinez\n",
    "\n",
    "# show_graph(cln2, 'HR', \"J.D. Martinez\", 2019)\n",
    "# On 3 occasions in 2019, Just Dongs hit a HR after having not hit an HR in any of the prior 7 days \n",
    "# On 2 occasions, Just Dongs did hit an HR in the next 7 days\n",
    "\n",
    "# show_graph(cln2, 'HR', \"J.D. Martinez\", 2018)\n",
    "# On 5 occasions, JD hit an HR after having not homered in the prior 7 days\n",
    "# In 4 occasion, JD hit an HR in the next 7 days\n",
    "\n",
    "Takeaway | The ct. of 7 day stretches a player goes without an HR is negatively correlated to overall production\n"
   ]
  },
  {
   "cell_type": "code",
   "execution_count": null,
   "metadata": {},
   "outputs": [],
   "source": []
  },
  {
   "cell_type": "markdown",
   "metadata": {},
   "source": [
    "### Graph functionalities to add:"
   ]
  },
  {
   "cell_type": "markdown",
   "metadata": {},
   "source": [
    "1. For stat and year, set the y limit to the max value for that column for that year (all players) -> dynamic upper y range (set lower y range to 0 in all cases\n",
    "\n",
    "2. have a graph split in two windows, one for 7-day rolling, 1 for cumulative season (shared x-axis\n",
    "\n",
    "3. Be able to specify player, year, and stat\n",
    "\n",
    "4. Be able to save and export as a png and/or html\n",
    "\n",
    "5.  Have a graph split in two windows, one for 7-day rolling, 1 for cumulative season, for the stat we are interested in\n",
    "\n",
    "6. Add stabilization lines to season views"
   ]
  }
 ],
 "metadata": {
  "kernelspec": {
   "display_name": "Python 3",
   "language": "python",
   "name": "python3"
  },
  "language_info": {
   "codemirror_mode": {
    "name": "ipython",
    "version": 3
   },
   "file_extension": ".py",
   "mimetype": "text/x-python",
   "name": "python",
   "nbconvert_exporter": "python",
   "pygments_lexer": "ipython3",
   "version": "3.6.8"
  }
 },
 "nbformat": 4,
 "nbformat_minor": 2
}
