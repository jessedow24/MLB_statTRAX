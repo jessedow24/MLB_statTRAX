{
 "cells": [
  {
   "cell_type": "code",
   "execution_count": null,
   "metadata": {},
   "outputs": [],
   "source": [
    "# Stats are broken down 3 different ways:\n",
    "## Season totals\n",
    "### 162-game pace\n",
    "## Game-by-game: cumulative\n",
    "## Game-by-game: 7-day moving average\n",
    "\n",
    "# Add stabilization lines to season views"
   ]
  },
  {
   "cell_type": "code",
   "execution_count": null,
   "metadata": {},
   "outputs": [],
   "source": [
    "pd.__version__"
   ]
  },
  {
   "cell_type": "code",
   "execution_count": null,
   "metadata": {},
   "outputs": [],
   "source": [
    "from jesse import jesse\n",
    "jesse.SetOptions()\n",
    "%load_ext autoreload\n",
    "%autoreload 2\n",
    "\n",
    "import pandas as pd\n",
    "import numpy as np\n",
    "from datetime import datetime, timedelta\n",
    "import pybaseball as mlb\n",
    "import mlbgame\n",
    "from IPython.display import clear_output\n",
    "\n",
    "import pybaseball as _pybaseball\n",
    "import preprocess\n",
    "from preprocess import service, model, dates\n",
    "from process import batter_processing"
   ]
  },
  {
   "cell_type": "code",
   "execution_count": null,
   "metadata": {},
   "outputs": [],
   "source": [
    "# this was build by preprocess\n",
    "batter_raw = pd.read_csv('../data/csv/raw_batter_stats.csv')"
   ]
  },
  {
   "cell_type": "code",
   "execution_count": null,
   "metadata": {},
   "outputs": [],
   "source": [
    "#batter_raw[batter_raw.Name == 'J.D. Martinez']"
   ]
  },
  {
   "cell_type": "code",
   "execution_count": null,
   "metadata": {},
   "outputs": [],
   "source": [
    "batter_clean = batter_processing.RawBatter(batter_raw)\n",
    "batter_clean.process_batter()\n",
    "cln = batter_clean.get_processed_batter()\n",
    "cln.sort_values(['NAME', 'DATE'], ascending=[False, True], inplace=True)"
   ]
  },
  {
   "cell_type": "code",
   "execution_count": null,
   "metadata": {},
   "outputs": [],
   "source": [
    "gr = cln.groupby(['NAME', 'YEAR'], as_index=False)"
   ]
  },
  {
   "cell_type": "code",
   "execution_count": null,
   "metadata": {},
   "outputs": [],
   "source": [
    "cln2 = gr.apply(lambda cln: pd.DataFrame({'NAME': cln['NAME']\n",
    "             , 'YEAR' : cln['YEAR']\n",
    "             , 'DATE': cln['DATE']\n",
    "             , 'G' : cln['G']\n",
    "             , 'TEAM': cln['TEAM']\n",
    "             , 'H_CUMSUM': cln.H.cumsum()\n",
    "             , 'H_7DAYROLL' : cln.H.rolling(7).sum()\n",
    "             , 'BB_CUMSUM': cln.BB.cumsum()\n",
    "             , 'BB_7DAYROLL' : cln.BB.rolling(7).sum()\n",
    "             , 'HBP_CUMSUM': cln.HBP.cumsum()\n",
    "             , 'HBP_7DAYROLL' : cln.HBP.rolling(7).sum()\n",
    "             , 'SF_CUMSUM': cln.SF.cumsum()\n",
    "             , 'SF_7DAYROLL' : cln.SF.rolling(7).sum()\n",
    "             , 'AB_CUMSUM': cln.AB.cumsum()\n",
    "             , 'AB_7DAYROLL' : cln.AB.rolling(7).sum()\n",
    "             , 'PA_CUMSUM': cln.PA.cumsum()\n",
    "             , 'PA_7DAYROLL' : cln.PA.rolling(7).sum()                              \n",
    "             , 'TB_CUMSUM': cln.TB.cumsum()\n",
    "             , 'TB_7DAYROLL' : cln.TB.rolling(7).sum()  \n",
    "             , 'SB_CUMSUM': cln.SB.cumsum()\n",
    "             , 'SB_7DAYROLL' : cln.SB.rolling(7).sum() \n",
    "             , 'HR_CUMSUM': cln.HR.cumsum()\n",
    "             , 'HR_7DAYROLL' : cln.HR.rolling(7).sum() \n",
    "             , 'RBI_CUMSUM': cln.RBI.cumsum()\n",
    "             , 'RBI_7DAYROLL' : cln.RBI.rolling(7).sum() \n",
    "             , 'R_CUMSUM': cln.R.cumsum()\n",
    "             , 'R_7DAYROLL' : cln.R.rolling(7).sum()              \n",
    "                                })).sort_values(['NAME', 'DATE'], ascending=False)\n",
    "\n",
    "cln2['CUMSUM_OBP'] = (\n",
    "    cln2.H_CUMSUM + cln2.BB_CUMSUM  + cln2.HBP_CUMSUM) / (\n",
    "    cln2.AB_CUMSUM + cln2.SF_CUMSUM + cln2.BB_CUMSUM + cln2.HBP_CUMSUM)\n",
    "cln2['CUMSUM_SLG'] = (cln2.TB_CUMSUM / cln2.AB_CUMSUM)\n",
    "cln2['CUMSUM_OPS'] = cln2.CUMSUM_OBP + cln2.CUMSUM_SLG\n",
    "cln2['CUMSUM_BAVG'] = cln2.H_CUMSUM / cln2.AB_CUMSUM\n",
    "\n",
    "cln2['ROLLING_OBP'] = (\n",
    "    cln2.H_7DAYROLL + cln2.BB_7DAYROLL + cln2.HBP_7DAYROLL) / (\n",
    "    cln2.AB_7DAYROLL + cln2.SF_7DAYROLL + cln2.BB_7DAYROLL + cln2.HBP_7DAYROLL)\n",
    "cln2['ROLLING_SLG'] = (cln2.TB_7DAYROLL / cln2.AB_7DAYROLL)\n",
    "cln2['ROLLING_OPS'] = cln2.ROLLING_OBP + cln2.ROLLING_SLG\n",
    "cln2['ROLLING_BAVG'] = cln2.H_7DAYROLL / cln2.AB_7DAYROLL"
   ]
  },
  {
   "cell_type": "code",
   "execution_count": null,
   "metadata": {},
   "outputs": [],
   "source": [
    "test = cln[cln.NAME == 'J.D. Martinez']\n",
    "test.tail(5)"
   ]
  },
  {
   "cell_type": "code",
   "execution_count": null,
   "metadata": {},
   "outputs": [],
   "source": [
    "#test2 = cln2[cln2.NAME == 'J.D. Martinez']"
   ]
  },
  {
   "cell_type": "code",
   "execution_count": null,
   "metadata": {},
   "outputs": [],
   "source": [
    "test3 = cln2[(cln2.NAME == 'J.D. Martinez') & (cln2.YEAR == 2018)]"
   ]
  },
  {
   "cell_type": "code",
   "execution_count": null,
   "metadata": {},
   "outputs": [],
   "source": [
    "print(test3.shape)\n",
    "test3.head()"
   ]
  },
  {
   "cell_type": "markdown",
   "metadata": {},
   "source": [
    "## Begin graph tests"
   ]
  },
  {
   "cell_type": "code",
   "execution_count": null,
   "metadata": {},
   "outputs": [],
   "source": [
    "from bokeh.plotting import figure, output_file, show\n",
    "from bokeh.models import NumeralTickFormatter, BasicTickFormatter, ColumnDataSource\n",
    "\n",
    "# Use this if you want to turn off the output_file functionality\n",
    "# import bokeh.io\n",
    "# bokeh.io.reset_output()\n",
    "# bokeh.io.output_notebook()"
   ]
  },
  {
   "cell_type": "markdown",
   "metadata": {},
   "source": [
    "### Batting average test graph"
   ]
  },
  {
   "cell_type": "code",
   "execution_count": null,
   "metadata": {},
   "outputs": [],
   "source": [
    "# prepare some data\n",
    "x = test3.DATE\n",
    "day7 = test3.ROLLING_BAVG\n",
    "seas = test3.CUMSUM_BAVG\n",
    "\n",
    "# Consolidate multiple vectors into a source dict\n",
    "source = ColumnDataSource(data=dict(\n",
    "    x=test3.DATE,\n",
    "    day7=test3.ROLLING_BAVG,\n",
    "    seas=test3.CUMSUM_BAVG,\n",
    "))\n",
    "\n",
    "# If I want to output the plot to html or save as a file\n",
    "# output to static HTML file\n",
    "# output_file(\"lines.html\")\n",
    "\n",
    "# create a plot\n",
    "p = figure(title=\"simple line example\"\n",
    "           , x_axis_label='DATE'\n",
    "           , y_axis_label='AVG'\n",
    "           , x_axis_type='datetime'\n",
    "           , y_axis_type='linear'\n",
    "           , y_minor_ticks = 5\n",
    "           , plot_width = 900\n",
    "           , plot_height = 600\n",
    "          )\n",
    "# format the y axis\n",
    "p.yaxis.formatter=NumeralTickFormatter(format='0.000')\n",
    "\n",
    "# add a line renderer with legend and line thickness\n",
    "p.line(x, day7, legend=\"Batting Avg: 7-day\", line_width=2, color=\"teal\", alpha=.4)\n",
    "p.line(x, seas, legend=\"Batting Avg: season\", line_width=3, color=\"coral\")\n",
    "\n",
    "# # add a second line\n",
    "# p.vline_stack(['day7', 'seas'], x='x', source=source, color=[\"teal\", \"coral\"]\n",
    "#               , line_width=[2,3], alpha=[0.4, 1])\n",
    "\n",
    "\n",
    "# show the results\n",
    "show(p)\n"
   ]
  },
  {
   "cell_type": "markdown",
   "metadata": {},
   "source": [
    "### Test building a graph function"
   ]
  },
  {
   "cell_type": "code",
   "execution_count": null,
   "metadata": {},
   "outputs": [],
   "source": [
    "# prepare some data\n",
    "x = test3.DATE\n",
    "day7 = test3.ROLLING_BAVG\n",
    "seas = test3.CUMSUM_BAVG"
   ]
  },
  {
   "cell_type": "code",
   "execution_count": null,
   "metadata": {},
   "outputs": [],
   "source": [
    "stat_ref = {'HR':{'day7':'HR_7DAYROLL', 'seas':'HR_CUMSUM'}\n",
    "            , 'SB':{'day7': 'SB_7DAYROLL', 'seas':'SB_CUMSUM'}}"
   ]
  },
  {
   "cell_type": "code",
   "execution_count": null,
   "metadata": {},
   "outputs": [],
   "source": [
    "mx = cln2.HR_7DAYROLL.max()"
   ]
  },
  {
   "cell_type": "code",
   "execution_count": null,
   "metadata": {},
   "outputs": [],
   "source": [
    "mx"
   ]
  },
  {
   "cell_type": "code",
   "execution_count": null,
   "metadata": {},
   "outputs": [],
   "source": [
    "stat = 'HR'\n",
    "line = 'day7'\n",
    "col = stat_ref[stat][line]\n",
    "\n",
    "def show_graph(df, stat):\n",
    "    stat_ref = {'HR':{'day7':'HR_7DAYROLL', 'seas':'HR_CUMSUM'}\n",
    "            , 'SB':{'day7': 'SB_7DAYROLL', 'seas':'SB_CUMSUM'}}\n",
    "    # define graph vectors\n",
    "    col_day7 = stat_ref[stat]['day7']\n",
    "    col_seas = stat_ref[stat]['seas']\n",
    "    seas     = df[col_seas]\n",
    "    day7     = df[col_day7]\n",
    "    x = df.DATE\n",
    "    \n",
    "    p = figure(title=stat+' summary'\n",
    "           , x_axis_label='DATE'\n",
    "           , y_axis_label=stat\n",
    "           , x_axis_type='datetime'\n",
    "           , y_axis_type='linear'\n",
    "           , y_minor_ticks = 5\n",
    "           , y_range=(0, 8)\n",
    "           , plot_width = 900\n",
    "           , plot_height = 600\n",
    "          )\n",
    "    \n",
    "    p.line(x, day7, legend=stat+\": 7-day\", line_width=3, color=\"coral\")\n",
    "    #p.line(x, seas, legend=stat+\": season\", line_width=2, color=\"teal\", alpha=.4)\n",
    "    \n",
    "    show(p)\n",
    "    "
   ]
  },
  {
   "cell_type": "code",
   "execution_count": null,
   "metadata": {},
   "outputs": [],
   "source": [
    "show_graph(test3, 'HR')"
   ]
  },
  {
   "cell_type": "markdown",
   "metadata": {},
   "source": [
    "### Graph functionalities to add:"
   ]
  },
  {
   "cell_type": "markdown",
   "metadata": {},
   "source": [
    "1. For stat and year, set the y limit to the max value for that column for that year (all players) -> dynamic upper y range (set lower y range to 0 in all cases\n",
    "\n",
    "2. have a graph split in two windows, one for 7-day rolling, 1 for cumulative season (shared x-axis\n",
    "\n",
    "3. Be able to specify player, year, and stat\n",
    "\n",
    "4. Be able to save and export as a png and/or html"
   ]
  }
 ],
 "metadata": {
  "kernelspec": {
   "display_name": "Python 3",
   "language": "python",
   "name": "python3"
  },
  "language_info": {
   "codemirror_mode": {
    "name": "ipython",
    "version": 3
   },
   "file_extension": ".py",
   "mimetype": "text/x-python",
   "name": "python",
   "nbconvert_exporter": "python",
   "pygments_lexer": "ipython3",
   "version": "3.6.8"
  }
 },
 "nbformat": 4,
 "nbformat_minor": 2
}
