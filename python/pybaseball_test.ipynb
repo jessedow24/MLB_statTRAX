{
 "cells": [
  {
   "cell_type": "code",
   "execution_count": 38,
   "metadata": {},
   "outputs": [
    {
     "name": "stdout",
     "output_type": "stream",
     "text": [
      "The autoreload extension is already loaded. To reload it, use:\n",
      "  %reload_ext autoreload\n",
      "/Users/downing.jesse/Projects/MLB_statTRAX/python\n"
     ]
    }
   ],
   "source": [
    "import pandas as pd\n",
    "import numpy as np\n",
    "from datetime import datetime, timedelta\n",
    "import pybaseball as mlb\n",
    "import mlbgame\n",
    "\n",
    "import preprocess\n",
    "\n",
    "%load_ext autoreload\n",
    "%autoreload 2\n",
    "from jesse import jesse\n",
    "jesse.SetOptions()\n",
    "\n",
    "today = datetime.today().strftime('%Y-%m-%d')"
   ]
  },
  {
   "cell_type": "code",
   "execution_count": 42,
   "metadata": {},
   "outputs": [],
   "source": [
    "test = preprocess.get_mlb_dates(2018)"
   ]
  },
  {
   "cell_type": "code",
   "execution_count": 43,
   "metadata": {},
   "outputs": [],
   "source": [
    "end_dt = datetime.strptime(test.second_half_end,'%Y-%m-%d')"
   ]
  },
  {
   "cell_type": "code",
   "execution_count": 45,
   "metadata": {},
   "outputs": [
    {
     "data": {
      "text/plain": [
       "['2018-07-16', '2018-07-17', '2018-07-18']"
      ]
     },
     "execution_count": 45,
     "metadata": {},
     "output_type": "execute_result"
    }
   ],
   "source": [
    "test.allstar_break_days"
   ]
  },
  {
   "cell_type": "code",
   "execution_count": null,
   "metadata": {},
   "outputs": [],
   "source": []
  },
  {
   "cell_type": "code",
   "execution_count": null,
   "metadata": {},
   "outputs": [],
   "source": []
  },
  {
   "cell_type": "code",
   "execution_count": null,
   "metadata": {},
   "outputs": [],
   "source": []
  },
  {
   "cell_type": "code",
   "execution_count": null,
   "metadata": {},
   "outputs": [],
   "source": [
    "a.set_mlb_dates()\n",
    "a.set_endpoints()\n",
    "a.set_all_star_break_days()\n",
    "a.set_season_days_so_far()\n",
    "a.get_season_days_so_far()"
   ]
  },
  {
   "cell_type": "code",
   "execution_count": null,
   "metadata": {},
   "outputs": [],
   "source": [
    "def get_current_season():\n",
    "    return datetime.today().year"
   ]
  },
  {
   "cell_type": "code",
   "execution_count": null,
   "metadata": {},
   "outputs": [],
   "source": [
    "def get_schedule_dates(season):\n",
    "    mlb_dates = mlbgame.important_dates(year=season)\n",
    "    first_half_start = mlb_dates.first_date_seas[:10]\n",
    "    first_half_end = mlb_dates.last_date_1sth[:10]\n",
    "    second_half_start = mlb_dates.first_date_2ndh[:10]\n",
    "    second_half_end = mlb_dates.last_date_seas[:10]\n",
    "    return first_half_start, first_half_end, second_half_start, second_half_end"
   ]
  },
  {
   "cell_type": "code",
   "execution_count": null,
   "metadata": {},
   "outputs": [],
   "source": [
    "def get_all_star_break_days(first_half_end, second_half_start):\n",
    "    start = datetime.strptime(first_half_end, '%Y-%m-%d') + timedelta(days=1)\n",
    "    stop = datetime.strptime(second_half_start, '%Y-%m-%d') - timedelta(days=1)\n",
    "    allstar_break_days = list(pd.date_range(start=start, end=stop).astype(str))\n",
    "    return allstar_break_days"
   ]
  },
  {
   "cell_type": "code",
   "execution_count": null,
   "metadata": {},
   "outputs": [],
   "source": [
    "def get_season_days_so_far(first_half_start, first_half_end, second_half_start, second_half_end):\n",
    "    today = datetime.today()\n",
    "    start = datetime.strptime(first_half_start, '%Y-%m-%d')\n",
    "    season_days = list(pd.date_range(start=start, end=today).astype(str))\n",
    "    season_days = [d for d in season_days if d not in get_all_star_break_days(first_half_end, second_half_start)]\n",
    "    return season_days"
   ]
  },
  {
   "cell_type": "code",
   "execution_count": null,
   "metadata": {},
   "outputs": [],
   "source": [
    "this_season = get_current_season()\n",
    "first_half_start, first_half_end, second_half_start, second_half_end = get_schedule_dates(this_season)\n",
    "season_days_so_far = get_season_days_so_far(first_half_start, first_half_end, second_half_start, second_half_end)"
   ]
  },
  {
   "cell_type": "code",
   "execution_count": null,
   "metadata": {},
   "outputs": [],
   "source": []
  },
  {
   "cell_type": "markdown",
   "metadata": {},
   "source": [
    "### Get key for a player"
   ]
  },
  {
   "cell_type": "code",
   "execution_count": null,
   "metadata": {},
   "outputs": [],
   "source": [
    "mlb.playerid_lookup('gallo', 'joey')"
   ]
  },
  {
   "cell_type": "code",
   "execution_count": null,
   "metadata": {},
   "outputs": [],
   "source": [
    "id = int(mlb.playerid_lookup('gallo', 'joey')['key_mlbam'])\n",
    "print(id)"
   ]
  },
  {
   "cell_type": "markdown",
   "metadata": {},
   "source": [
    "### Get season-level stats for a all batters"
   ]
  },
  {
   "cell_type": "code",
   "execution_count": null,
   "metadata": {},
   "outputs": [],
   "source": [
    "mlb.batting_stats_bref(season=2019).head() # entire season\n",
    "mlb.batting_stats_range(start_dt='2019-03-20', end_dt=today) # specified range\n",
    "\n",
    "#data = mlb.batting_stats_range(\"2016-08-24\",) \n",
    "data = mlb.batting_stats_range(\"2019-05-28\", ) \n"
   ]
  },
  {
   "cell_type": "code",
   "execution_count": null,
   "metadata": {},
   "outputs": [],
   "source": [
    "df = pd.DataFrame()\n",
    "df_lst = []\n",
    "\n",
    "for d in season_days_so_far:\n",
    "    try:\n",
    "        tmp_df = mlb.batting_stats_range(str(d), )\n",
    "        print(' processing schedule date ',d)\n",
    "    except:\n",
    "        continue\n",
    "    tmp_df['DATE'] = d\n",
    "    df_lst.append(tmp_df)"
   ]
  },
  {
   "cell_type": "code",
   "execution_count": null,
   "metadata": {},
   "outputs": [],
   "source": [
    "df = pd.concat(df_lst)"
   ]
  },
  {
   "cell_type": "code",
   "execution_count": null,
   "metadata": {},
   "outputs": [],
   "source": [
    "df.sort_values(['Name', 'DATE'], inplace=True)"
   ]
  },
  {
   "cell_type": "code",
   "execution_count": null,
   "metadata": {},
   "outputs": [],
   "source": [
    "df"
   ]
  },
  {
   "cell_type": "code",
   "execution_count": null,
   "metadata": {},
   "outputs": [],
   "source": []
  },
  {
   "cell_type": "code",
   "execution_count": null,
   "metadata": {},
   "outputs": [],
   "source": []
  },
  {
   "cell_type": "code",
   "execution_count": null,
   "metadata": {},
   "outputs": [],
   "source": [
    "today = datetime.today()\n",
    "days = [today - datetime.timedelta(days=x) for x in range(0, numdays)]"
   ]
  },
  {
   "cell_type": "code",
   "execution_count": null,
   "metadata": {},
   "outputs": [],
   "source": []
  },
  {
   "cell_type": "code",
   "execution_count": null,
   "metadata": {},
   "outputs": [],
   "source": [
    "from datetime import date, timedelta\n",
    "\n",
    "d1 = date(2008, 8, 15)  # start date\n",
    "d2 = date(2008, 9, 15)  # end date\n",
    "\n",
    "delta = d2 - d1         # timedelta\n",
    "\n",
    "for i in range(delta.days + 1):\n",
    "    print(d1 + timedelta(days=i))\n",
    "\n"
   ]
  },
  {
   "cell_type": "code",
   "execution_count": null,
   "metadata": {},
   "outputs": [],
   "source": [
    "# Make a list of all days during 2019 baseball season (from beginning to now)\n",
    "# For each day, pull all data, and append to master dataframe\n",
    "# data"
   ]
  },
  {
   "cell_type": "markdown",
   "metadata": {},
   "source": [
    "## Temp"
   ]
  },
  {
   "cell_type": "markdown",
   "metadata": {},
   "source": [
    "### Get raw stats for a batter"
   ]
  },
  {
   "cell_type": "code",
   "execution_count": null,
   "metadata": {},
   "outputs": [],
   "source": [
    "#gallo_stats = mlb.statcast_batter('2019-04-01', '2019-05-01', id)\n",
    "gallo_stats = mlb.statcast_batter(start_dt='2019-02-20', end_dt=today, player_id=id)"
   ]
  },
  {
   "cell_type": "code",
   "execution_count": null,
   "metadata": {},
   "outputs": [],
   "source": [
    "gallo_stats[gallo_stats.game_date == '2019-05-01']"
   ]
  },
  {
   "cell_type": "code",
   "execution_count": null,
   "metadata": {},
   "outputs": [],
   "source": [
    "gallo_stats"
   ]
  },
  {
   "cell_type": "markdown",
   "metadata": {},
   "source": [
    "### Grab all batted ball events for a single day for a single player"
   ]
  },
  {
   "cell_type": "code",
   "execution_count": null,
   "metadata": {},
   "outputs": [],
   "source": [
    "gallo_stats[(gallo_stats.game_date == '2019-05-01') & (~gallo_stats.events.isnull())]"
   ]
  },
  {
   "cell_type": "code",
   "execution_count": null,
   "metadata": {},
   "outputs": [],
   "source": [
    "gallo_stats.events.value_counts()"
   ]
  },
  {
   "cell_type": "markdown",
   "metadata": {},
   "source": [
    "## What other player sources exist?\n",
    "* Lahman\n",
    "** batting stats by year\n",
    "** updated at the end of each season (current is through 2018)\n",
    "* fangraps\n",
    "* baseball reference\n",
    "* baseball savants\n",
    "\n",
    "\n",
    "### Do I have to parse the data to one-record-per-game format myself?\n",
    "\n",
    "### Can I use retrosheet for past years, and use stat_cast for current year?\n",
    "\n",
    "### How do I define the first game date of the season?\n",
    "\n",
    "### I should save all player IDs to a table, and append any new players?\n"
   ]
  }
 ],
 "metadata": {
  "kernelspec": {
   "display_name": "Python 3",
   "language": "python",
   "name": "python3"
  },
  "language_info": {
   "codemirror_mode": {
    "name": "ipython",
    "version": 3
   },
   "file_extension": ".py",
   "mimetype": "text/x-python",
   "name": "python",
   "nbconvert_exporter": "python",
   "pygments_lexer": "ipython3",
   "version": "3.6.8"
  }
 },
 "nbformat": 4,
 "nbformat_minor": 2
}
